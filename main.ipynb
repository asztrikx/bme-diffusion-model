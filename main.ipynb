{
 "cells": [
  {
   "cell_type": "code",
   "execution_count": 1,
   "metadata": {
    "jupyter": {
     "is_executing": true
    }
   },
   "outputs": [],
   "source": [
    "import pandas as pd\n",
    "import numpy as np\n",
    "import matplotlib.pyplot as plt\n",
    "import seaborn as sns\n",
    "\n",
    "import pytorch_lightning as pl\n",
    "import torch\n",
    "from torch import nn\n",
    "from torch.nn import functional as F\n",
    "from torch.utils.data import random_split, DataLoader\n",
    "from torchvision import transforms\n",
    "\n",
    "from IPython.display import display\n",
    "\t# make it not fail in terminal execution"
   ]
  },
  {
   "cell_type": "code",
   "execution_count": 2,
   "metadata": {},
   "outputs": [
    {
     "data": {
      "text/html": [
       "<div>\n",
       "<style scoped>\n",
       "    .dataframe tbody tr th:only-of-type {\n",
       "        vertical-align: middle;\n",
       "    }\n",
       "\n",
       "    .dataframe tbody tr th {\n",
       "        vertical-align: top;\n",
       "    }\n",
       "\n",
       "    .dataframe thead th {\n",
       "        text-align: right;\n",
       "    }\n",
       "</style>\n",
       "<table border=\"1\" class=\"dataframe\">\n",
       "  <thead>\n",
       "    <tr style=\"text-align: right;\">\n",
       "      <th></th>\n",
       "      <th>height</th>\n",
       "      <th>width</th>\n",
       "      <th>count</th>\n",
       "    </tr>\n",
       "  </thead>\n",
       "  <tbody>\n",
       "    <tr>\n",
       "      <th>0</th>\n",
       "      <td>500</td>\n",
       "      <td>500</td>\n",
       "      <td>12</td>\n",
       "    </tr>\n",
       "    <tr>\n",
       "      <th>1</th>\n",
       "      <td>500</td>\n",
       "      <td>501</td>\n",
       "      <td>1</td>\n",
       "    </tr>\n",
       "    <tr>\n",
       "      <th>2</th>\n",
       "      <td>500</td>\n",
       "      <td>502</td>\n",
       "      <td>3</td>\n",
       "    </tr>\n",
       "    <tr>\n",
       "      <th>3</th>\n",
       "      <td>500</td>\n",
       "      <td>505</td>\n",
       "      <td>4</td>\n",
       "    </tr>\n",
       "    <tr>\n",
       "      <th>4</th>\n",
       "      <td>500</td>\n",
       "      <td>506</td>\n",
       "      <td>1</td>\n",
       "    </tr>\n",
       "  </tbody>\n",
       "</table>\n",
       "</div>"
      ],
      "text/plain": [
       "   height  width  count\n",
       "0     500    500     12\n",
       "1     500    501      1\n",
       "2     500    502      3\n",
       "3     500    505      4\n",
       "4     500    506      1"
      ]
     },
     "metadata": {},
     "output_type": "display_data"
    },
    {
     "name": "stdout",
     "output_type": "stream",
     "text": [
      "min height 500\n",
      "min width 500\n"
     ]
    },
    {
     "data": {
      "text/html": [
       "<div>\n",
       "<style scoped>\n",
       "    .dataframe tbody tr th:only-of-type {\n",
       "        vertical-align: middle;\n",
       "    }\n",
       "\n",
       "    .dataframe tbody tr th {\n",
       "        vertical-align: top;\n",
       "    }\n",
       "\n",
       "    .dataframe thead th {\n",
       "        text-align: right;\n",
       "    }\n",
       "</style>\n",
       "<table border=\"1\" class=\"dataframe\">\n",
       "  <thead>\n",
       "    <tr style=\"text-align: right;\">\n",
       "      <th></th>\n",
       "      <th>height</th>\n",
       "      <th>width</th>\n",
       "      <th>count</th>\n",
       "    </tr>\n",
       "  </thead>\n",
       "  <tbody>\n",
       "    <tr>\n",
       "      <th>0</th>\n",
       "      <td>500</td>\n",
       "      <td>500</td>\n",
       "      <td>41</td>\n",
       "    </tr>\n",
       "    <tr>\n",
       "      <th>1</th>\n",
       "      <td>500</td>\n",
       "      <td>501</td>\n",
       "      <td>2</td>\n",
       "    </tr>\n",
       "    <tr>\n",
       "      <th>2</th>\n",
       "      <td>500</td>\n",
       "      <td>502</td>\n",
       "      <td>9</td>\n",
       "    </tr>\n",
       "    <tr>\n",
       "      <th>3</th>\n",
       "      <td>500</td>\n",
       "      <td>503</td>\n",
       "      <td>4</td>\n",
       "    </tr>\n",
       "    <tr>\n",
       "      <th>4</th>\n",
       "      <td>500</td>\n",
       "      <td>504</td>\n",
       "      <td>6</td>\n",
       "    </tr>\n",
       "  </tbody>\n",
       "</table>\n",
       "</div>"
      ],
      "text/plain": [
       "   height  width  count\n",
       "0     500    500     41\n",
       "1     500    501      2\n",
       "2     500    502      9\n",
       "3     500    503      4\n",
       "4     500    504      6"
      ]
     },
     "metadata": {},
     "output_type": "display_data"
    },
    {
     "name": "stdout",
     "output_type": "stream",
     "text": [
      "min height 500\n",
      "min width 500\n"
     ]
    },
    {
     "data": {
      "text/html": [
       "<div>\n",
       "<style scoped>\n",
       "    .dataframe tbody tr th:only-of-type {\n",
       "        vertical-align: middle;\n",
       "    }\n",
       "\n",
       "    .dataframe tbody tr th {\n",
       "        vertical-align: top;\n",
       "    }\n",
       "\n",
       "    .dataframe thead th {\n",
       "        text-align: right;\n",
       "    }\n",
       "</style>\n",
       "<table border=\"1\" class=\"dataframe\">\n",
       "  <thead>\n",
       "    <tr style=\"text-align: right;\">\n",
       "      <th></th>\n",
       "      <th>height</th>\n",
       "      <th>width</th>\n",
       "      <th>count</th>\n",
       "    </tr>\n",
       "  </thead>\n",
       "  <tbody>\n",
       "    <tr>\n",
       "      <th>0</th>\n",
       "      <td>500</td>\n",
       "      <td>500</td>\n",
       "      <td>17</td>\n",
       "    </tr>\n",
       "    <tr>\n",
       "      <th>1</th>\n",
       "      <td>500</td>\n",
       "      <td>501</td>\n",
       "      <td>3</td>\n",
       "    </tr>\n",
       "    <tr>\n",
       "      <th>2</th>\n",
       "      <td>500</td>\n",
       "      <td>502</td>\n",
       "      <td>2</td>\n",
       "    </tr>\n",
       "    <tr>\n",
       "      <th>3</th>\n",
       "      <td>500</td>\n",
       "      <td>503</td>\n",
       "      <td>1</td>\n",
       "    </tr>\n",
       "    <tr>\n",
       "      <th>4</th>\n",
       "      <td>500</td>\n",
       "      <td>505</td>\n",
       "      <td>1</td>\n",
       "    </tr>\n",
       "  </tbody>\n",
       "</table>\n",
       "</div>"
      ],
      "text/plain": [
       "   height  width  count\n",
       "0     500    500     17\n",
       "1     500    501      3\n",
       "2     500    502      2\n",
       "3     500    503      1\n",
       "4     500    505      1"
      ]
     },
     "metadata": {},
     "output_type": "display_data"
    },
    {
     "name": "stdout",
     "output_type": "stream",
     "text": [
      "min height 500\n",
      "min width 500\n"
     ]
    }
   ],
   "source": [
    "# Dataset\n",
    "from torchvision import datasets\n",
    "\n",
    "flowers_orig_train = datasets.Flowers102('./data', download=True, split=\"train\")\n",
    "flowers_orig_test = datasets.Flowers102('./data', download=True, split=\"test\")\n",
    "flowers_orig_val = datasets.Flowers102('./data', download=True, split=\"val\")\n",
    "\n",
    "# Show sizes\n",
    "def analyze_size(imgs):\n",
    "\tflowers_sizes = pd.DataFrame([img.size for img, _ in imgs])\n",
    "\tflowers_sizes.columns = [\"height\", \"width\"]\n",
    "\tgrouped_df = flowers_sizes.groupby([\"height\", \"width\"]).size().reset_index(name='count')\n",
    "\tdisplay(grouped_df.head()) # Images don't have same sizes\n",
    "\t# show min width and height\n",
    "\tprint(\"min height\", flowers_sizes[\"height\"].min())\n",
    "\tprint(\"min width\", flowers_sizes[\"width\"].min())\n",
    "\n",
    "analyze_size(flowers_orig_train)\n",
    "analyze_size(flowers_orig_test)\n",
    "analyze_size(flowers_orig_val)"
   ]
  },
  {
   "cell_type": "code",
   "execution_count": 3,
   "metadata": {},
   "outputs": [
    {
     "name": "stdout",
     "output_type": "stream",
     "text": [
      "(1020, 3, 64, 64)\n",
      "(6149, 3, 64, 64)\n",
      "(1020, 3, 64, 64)\n",
      "(8189, 3, 64, 64)\n"
     ]
    }
   ],
   "source": [
    "# Merge train, test, val\n",
    "def collectData():\n",
    "\t# We need to transform before merging to avoid high memory consumption\n",
    "\n",
    "\t# Data cleansing\n",
    "\n",
    "\t# Crop to same size\n",
    "\t# Resize for consumer gpu\n",
    "\t# To tensor for neural network\n",
    "\t# Make mean 0 to match noise's mean\n",
    "\tfrom torchvision.transforms.v2 import CenterCrop\n",
    "\ttransform = transforms.Compose([\n",
    "\t\ttransforms.CenterCrop(500),\n",
    "\t\ttransforms.Resize(64),\n",
    "\t\ttransforms.ToTensor(),\n",
    "\t\ttransforms.Lambda(lambda img: (img - 0.5) * 2)\n",
    "\t])\n",
    "\n",
    "\ttrain = datasets.Flowers102('./data', download=True, split='train', transform=transform)\n",
    "\ttest = datasets.Flowers102('./data', download=True, split='test', transform=transform)\n",
    "\tval = datasets.Flowers102('./data', download=True, split='val', transform=transform)\n",
    "\n",
    "\t# Data contains classification\n",
    "\tdef remove_target_and_to_numpy(data):\n",
    "\t\treturn np.array( [img.numpy() for img, target in data] )\n",
    "\ttrain = remove_target_and_to_numpy(train)\n",
    "\ttest = remove_target_and_to_numpy(test)\n",
    "\tval = remove_target_and_to_numpy(val)\n",
    "\tprint(train.shape)\n",
    "\tprint(test.shape)\n",
    "\tprint(val.shape)\n",
    "\n",
    "\t# Concatenate them\n",
    "\tall = np.concatenate((train, test, val), axis=0)\n",
    "\tprint(all.shape)\n",
    "\treturn all\n",
    "flowerTensors = collectData()\n",
    "\n",
    "# Reverse transform\n",
    "tensorToImage = transforms.Compose([\n",
    "\ttransforms.Lambda(lambda img: img / 2 + 0.5),\n",
    "\ttransforms.Lambda(lambda img: img.permute(1, 2, 0).numpy() * 255),\n",
    "\ttransforms.Lambda(lambda img: img.astype(np.uint8))\n",
    "])"
   ]
  },
  {
   "cell_type": "code",
   "execution_count": 4,
   "metadata": {},
   "outputs": [
    {
     "data": {
      "text/plain": [
       "<matplotlib.image.AxesImage at 0x2587edaaf90>"
      ]
     },
     "execution_count": 4,
     "metadata": {},
     "output_type": "execute_result"
    },
    {
     "data": {
      "image/png": "[encoded data removed]",
      "text/plain": [
       "<Figure size 640x480 with 1 Axes>"
      ]
     },
     "metadata": {},
     "output_type": "display_data"
    }
   ],
   "source": [
    "plt.imshow(tensorToImage(torch.from_numpy(flowerTensors[0])))"
   ]
  },
  {
   "cell_type": "code",
   "execution_count": 14,
   "metadata": {},
   "outputs": [
    {
     "data": {
      "image/png": "[encoded data removed]",
      "text/plain": [
       "<Figure size 640x480 with 1 Axes>"
      ]
     },
     "metadata": {},
     "output_type": "display_data"
    }
   ],
   "source": [
    "# Data analysis\n",
    "\n",
    "# Distribution of (normalized) pixels\n",
    "def img_histogram(data):\n",
    "\tfor i, color in enumerate([\"red\", \"green\", \"blue\"]):\n",
    "\t\tplt.hist(data[:, i, :, :].flatten(), bins=256, range=(-1, 1), color=color, histtype=u'step', density=True)\n",
    "\tplt.title('Density of RGB values')\n",
    "\tplt.xlabel('Color Intensity.  [-1,1]')\n",
    "\tplt.ylabel('Frequency')\n",
    "\tplt.grid(axis='y', alpha=0.5)\n",
    "\tplt.show()\n",
    "img_histogram(flowerTensors)"
   ]
  },
  {
   "cell_type": "code",
   "execution_count": 17,
   "metadata": {},
   "outputs": [
    {
     "name": "stdout",
     "output_type": "stream",
     "text": [
      "(6551, 3, 64, 64)\n",
      "(819, 3, 64, 64)\n",
      "(819, 3, 64, 64)\n"
     ]
    }
   ],
   "source": [
    "from sklearn.model_selection import train_test_split\n",
    "train, test = train_test_split(flowerTensors, test_size=0.2, random_state=42)\n",
    "test, val = train_test_split(test, test_size=0.5, random_state=42)\n",
    "print(train.shape)\n",
    "print(test.shape)\n",
    "print(val.shape)"
   ]
  },
  {
   "cell_type": "code",
   "execution_count": null,
   "metadata": {},
   "outputs": [],
   "source": [
    "# Check if distribution is similar between train, test, val\n",
    "fig, axs = plt.subplots(1, 3, figsize=(15, 5))\n",
    "for idx, dataset in enumerate([train, test, val]):\n",
    "\tfor i, color in enumerate([\"red\", \"green\", \"blue\"]):\n",
    "\t\taxs[idx].hist(dataset[:, i, :, :].flatten(), bins=256, range=(-1, 1), color=color, histtype=u'step', density=True)\n",
    "\taxs[idx].set_title('Density of RGB values') # can't use existing function because it's not .title 🙃\n",
    "\taxs[idx].set_xlabel('Color Intensity.  [-1,1]') # ...\n",
    "\taxs[idx].set_ylabel('Frequency') # ...\n",
    "\taxs[idx].grid(axis='y', alpha=0.5)\n",
    "plt.show()"
   ]
  },
  {
   "cell_type": "code",
   "execution_count": 6,
   "metadata": {},
   "outputs": [],
   "source": [
    "# gyakorlat: docker hogyan\n",
    "# cleansing (kép szórás eloszlás, kicsik kidobása)\n",
    "\n",
    "np.random.seed(42)\n",
    "torch.manual_seed(42)\n",
    "\n",
    "# todo: fix random\n",
    "# baseline legyen mintavételezés az eloszlásból\n",
    "# vae baseline, test on own gpu\n",
    "\n",
    "# T db gauss zaj hozzáadás: várh érték függ az előző képtől?: https://huggingface.co/blog/annotated-diffusion\n",
    "# variancia változik minden üzemben (~learning rate schedule)\n",
    "# lehetne hiperparaméter a beta scheduler is (lineáris, exponenciális)\n",
    "\n",
    "# Releváns laborok: Gépi labor 4. VAE\n",
    "# Jó levezetés: https://lilianweng.github.io/posts/2021-07-11-diffusion-models/"
   ]
  }
 ],
 "metadata": {
  "kernelspec": {
   "display_name": ".venv",
   "language": "python",
   "name": "python3"
  },
  "language_info": {
   "codemirror_mode": {
    "name": "ipython",
    "version": 3
   },
   "file_extension": ".py",
   "mimetype": "text/x-python",
   "name": "python",
   "nbconvert_exporter": "python",
   "pygments_lexer": "ipython3",
   "version": "3.12.6"
  }
 },
 "nbformat": 4,
 "nbformat_minor": 2
}
