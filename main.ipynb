{
 "cells": [
  {
   "cell_type": "code",
   "execution_count": 3,
   "metadata": {
    "colab": {
     "base_uri": "https://localhost:8080/"
    },
    "id": "zICjjeUy0JMB",
    "outputId": "41dee01a-93ce-4c8f-c13a-e29bcb64b51b"
   },
   "outputs": [
    {
     "name": "stdout",
     "output_type": "stream",
     "text": [
      "Requirement already satisfied: scikit-learn==1.5.2 in c:\\users\\asztr\\appdata\\local\\programs\\python\\python312\\lib\\site-packages (from -r requirements.txt (line 3)) (1.5.2)\n",
      "Requirement already satisfied: matplotlib==3.9.2 in c:\\users\\asztr\\appdata\\local\\programs\\python\\python312\\lib\\site-packages (from -r requirements.txt (line 4)) (3.9.2)\n",
      "Requirement already satisfied: numpy in c:\\users\\asztr\\appdata\\local\\programs\\python\\python312\\lib\\site-packages (from -r requirements.txt (line 5)) (1.26.4)\n",
      "Requirement already satisfied: pandas==2.2.3 in c:\\users\\asztr\\appdata\\local\\programs\\python\\python312\\lib\\site-packages (from -r requirements.txt (line 6)) (2.2.3)\n",
      "Requirement already satisfied: pytorch-lightning==2.4.0 in c:\\users\\asztr\\appdata\\local\\programs\\python\\python312\\lib\\site-packages (from -r requirements.txt (line 7)) (2.4.0)\n",
      "Requirement already satisfied: lightning==2.4.0 in c:\\users\\asztr\\appdata\\local\\programs\\python\\python312\\lib\\site-packages (from -r requirements.txt (line 8)) (2.4.0)\n",
      "Requirement already satisfied: tensorboardx==2.6.2.2 in c:\\users\\asztr\\appdata\\local\\programs\\python\\python312\\lib\\site-packages (from -r requirements.txt (line 9)) (2.6.2.2)\n",
      "Requirement already satisfied: tensorflow==2.17.0 in c:\\users\\asztr\\appdata\\local\\programs\\python\\python312\\lib\\site-packages (from -r requirements.txt (line 10)) (2.17.0)\n",
      "Requirement already satisfied: seaborn==0.13.2 in c:\\users\\asztr\\appdata\\local\\programs\\python\\python312\\lib\\site-packages (from -r requirements.txt (line 11)) (0.13.2)\n",
      "Requirement already satisfied: nbconvert==7.16.4 in c:\\users\\asztr\\appdata\\local\\programs\\python\\python312\\lib\\site-packages (from -r requirements.txt (line 13)) (7.16.4)\n",
      "Requirement already satisfied: jupyter==1.1.1 in c:\\users\\asztr\\appdata\\local\\programs\\python\\python312\\lib\\site-packages (from -r requirements.txt (line 14)) (1.1.1)\n",
      "Requirement already satisfied: IPython==8.28.0 in c:\\users\\asztr\\appdata\\local\\programs\\python\\python312\\lib\\site-packages (from -r requirements.txt (line 16)) (8.28.0)\n",
      "Requirement already satisfied: wandb==0.18.5 in c:\\users\\asztr\\appdata\\local\\programs\\python\\python312\\lib\\site-packages (from -r requirements.txt (line 17)) (0.18.5)\n",
      "Requirement already satisfied: scipy>=1.6.0 in c:\\users\\asztr\\appdata\\local\\programs\\python\\python312\\lib\\site-packages (from scikit-learn==1.5.2->-r requirements.txt (line 3)) (1.14.1)\n",
      "Requirement already satisfied: joblib>=1.2.0 in c:\\users\\asztr\\appdata\\local\\programs\\python\\python312\\lib\\site-packages (from scikit-learn==1.5.2->-r requirements.txt (line 3)) (1.4.2)\n",
      "Requirement already satisfied: threadpoolctl>=3.1.0 in c:\\users\\asztr\\appdata\\local\\programs\\python\\python312\\lib\\site-packages (from scikit-learn==1.5.2->-r requirements.txt (line 3)) (3.5.0)\n",
      "Requirement already satisfied: contourpy>=1.0.1 in c:\\users\\asztr\\appdata\\local\\programs\\python\\python312\\lib\\site-packages (from matplotlib==3.9.2->-r requirements.txt (line 4)) (1.3.0)\n",
      "Requirement already satisfied: cycler>=0.10 in c:\\users\\asztr\\appdata\\local\\programs\\python\\python312\\lib\\site-packages (from matplotlib==3.9.2->-r requirements.txt (line 4)) (0.12.1)\n",
      "Requirement already satisfied: fonttools>=4.22.0 in c:\\users\\asztr\\appdata\\local\\programs\\python\\python312\\lib\\site-packages (from matplotlib==3.9.2->-r requirements.txt (line 4)) (4.53.1)\n",
      "Requirement already satisfied: kiwisolver>=1.3.1 in c:\\users\\asztr\\appdata\\local\\programs\\python\\python312\\lib\\site-packages (from matplotlib==3.9.2->-r requirements.txt (line 4)) (1.4.7)\n",
      "Requirement already satisfied: packaging>=20.0 in c:\\users\\asztr\\appdata\\roaming\\python\\python312\\site-packages (from matplotlib==3.9.2->-r requirements.txt (line 4)) (24.1)\n",
      "Requirement already satisfied: pillow>=8 in c:\\users\\asztr\\appdata\\local\\programs\\python\\python312\\lib\\site-packages (from matplotlib==3.9.2->-r requirements.txt (line 4)) (10.4.0)\n",
      "Requirement already satisfied: pyparsing>=2.3.1 in c:\\users\\asztr\\appdata\\local\\programs\\python\\python312\\lib\\site-packages (from matplotlib==3.9.2->-r requirements.txt (line 4)) (3.1.4)\n",
      "Requirement already satisfied: python-dateutil>=2.7 in c:\\users\\asztr\\appdata\\roaming\\python\\python312\\site-packages (from matplotlib==3.9.2->-r requirements.txt (line 4)) (2.9.0.post0)\n",
      "Requirement already satisfied: pytz>=2020.1 in c:\\users\\asztr\\appdata\\local\\programs\\python\\python312\\lib\\site-packages (from pandas==2.2.3->-r requirements.txt (line 6)) (2024.2)\n",
      "Requirement already satisfied: tzdata>=2022.7 in c:\\users\\asztr\\appdata\\local\\programs\\python\\python312\\lib\\site-packages (from pandas==2.2.3->-r requirements.txt (line 6)) (2024.1)\n",
      "Requirement already satisfied: torch>=2.1.0 in c:\\users\\asztr\\appdata\\local\\programs\\python\\python312\\lib\\site-packages (from pytorch-lightning==2.4.0->-r requirements.txt (line 7)) (2.4.1+cu118)\n",
      "Requirement already satisfied: tqdm>=4.57.0 in c:\\users\\asztr\\appdata\\local\\programs\\python\\python312\\lib\\site-packages (from pytorch-lightning==2.4.0->-r requirements.txt (line 7)) (4.66.6)\n",
      "Requirement already satisfied: PyYAML>=5.4 in c:\\users\\asztr\\appdata\\local\\programs\\python\\python312\\lib\\site-packages (from pytorch-lightning==2.4.0->-r requirements.txt (line 7)) (6.0.2)\n",
      "Requirement already satisfied: fsspec>=2022.5.0 in c:\\users\\asztr\\appdata\\local\\programs\\python\\python312\\lib\\site-packages (from fsspec[http]>=2022.5.0->pytorch-lightning==2.4.0->-r requirements.txt (line 7)) (2024.9.0)\n",
      "Requirement already satisfied: torchmetrics>=0.7.0 in c:\\users\\asztr\\appdata\\local\\programs\\python\\python312\\lib\\site-packages (from pytorch-lightning==2.4.0->-r requirements.txt (line 7)) (1.5.1)\n",
      "Requirement already satisfied: typing-extensions>=4.4.0 in c:\\users\\asztr\\appdata\\local\\programs\\python\\python312\\lib\\site-packages (from pytorch-lightning==2.4.0->-r requirements.txt (line 7)) (4.12.2)\n",
      "Requirement already satisfied: lightning-utilities>=0.10.0 in c:\\users\\asztr\\appdata\\local\\programs\\python\\python312\\lib\\site-packages (from pytorch-lightning==2.4.0->-r requirements.txt (line 7)) (0.11.8)\n",
      "Requirement already satisfied: protobuf>=3.20 in c:\\users\\asztr\\appdata\\local\\programs\\python\\python312\\lib\\site-packages (from tensorboardx==2.6.2.2->-r requirements.txt (line 9)) (4.25.5)\n",
      "Requirement already satisfied: tensorflow-intel==2.17.0 in c:\\users\\asztr\\appdata\\local\\programs\\python\\python312\\lib\\site-packages (from tensorflow==2.17.0->-r requirements.txt (line 10)) (2.17.0)\n",
      "Requirement already satisfied: beautifulsoup4 in c:\\users\\asztr\\appdata\\local\\programs\\python\\python312\\lib\\site-packages (from nbconvert==7.16.4->-r requirements.txt (line 13)) (4.12.3)\n",
      "Requirement already satisfied: bleach!=5.0.0 in c:\\users\\asztr\\appdata\\local\\programs\\python\\python312\\lib\\site-packages (from nbconvert==7.16.4->-r requirements.txt (line 13)) (6.2.0)\n",
      "Requirement already satisfied: defusedxml in c:\\users\\asztr\\appdata\\local\\programs\\python\\python312\\lib\\site-packages (from nbconvert==7.16.4->-r requirements.txt (line 13)) (0.7.1)\n",
      "Requirement already satisfied: jinja2>=3.0 in c:\\users\\asztr\\appdata\\local\\programs\\python\\python312\\lib\\site-packages (from nbconvert==7.16.4->-r requirements.txt (line 13)) (3.1.4)\n",
      "Requirement already satisfied: jupyter-core>=4.7 in c:\\users\\asztr\\appdata\\roaming\\python\\python312\\site-packages (from nbconvert==7.16.4->-r requirements.txt (line 13)) (5.7.2)\n",
      "Requirement already satisfied: jupyterlab-pygments in c:\\users\\asztr\\appdata\\local\\programs\\python\\python312\\lib\\site-packages (from nbconvert==7.16.4->-r requirements.txt (line 13)) (0.3.0)\n",
      "Requirement already satisfied: markupsafe>=2.0 in c:\\users\\asztr\\appdata\\local\\programs\\python\\python312\\lib\\site-packages (from nbconvert==7.16.4->-r requirements.txt (line 13)) (2.1.5)\n",
      "Requirement already satisfied: mistune<4,>=2.0.3 in c:\\users\\asztr\\appdata\\local\\programs\\python\\python312\\lib\\site-packages (from nbconvert==7.16.4->-r requirements.txt (line 13)) (3.0.2)\n",
      "Requirement already satisfied: nbclient>=0.5.0 in c:\\users\\asztr\\appdata\\local\\programs\\python\\python312\\lib\\site-packages (from nbconvert==7.16.4->-r requirements.txt (line 13)) (0.10.0)\n",
      "Requirement already satisfied: nbformat>=5.7 in c:\\users\\asztr\\appdata\\local\\programs\\python\\python312\\lib\\site-packages (from nbconvert==7.16.4->-r requirements.txt (line 13)) (5.10.4)\n",
      "Requirement already satisfied: pandocfilters>=1.4.1 in c:\\users\\asztr\\appdata\\local\\programs\\python\\python312\\lib\\site-packages (from nbconvert==7.16.4->-r requirements.txt (line 13)) (1.5.1)\n",
      "Requirement already satisfied: pygments>=2.4.1 in c:\\users\\asztr\\appdata\\roaming\\python\\python312\\site-packages (from nbconvert==7.16.4->-r requirements.txt (line 13)) (2.18.0)\n",
      "Requirement already satisfied: tinycss2 in c:\\users\\asztr\\appdata\\local\\programs\\python\\python312\\lib\\site-packages (from nbconvert==7.16.4->-r requirements.txt (line 13)) (1.4.0)\n",
      "Requirement already satisfied: traitlets>=5.1 in c:\\users\\asztr\\appdata\\roaming\\python\\python312\\site-packages (from nbconvert==7.16.4->-r requirements.txt (line 13)) (5.14.3)\n",
      "Requirement already satisfied: notebook in c:\\users\\asztr\\appdata\\local\\programs\\python\\python312\\lib\\site-packages (from jupyter==1.1.1->-r requirements.txt (line 14)) (7.2.2)\n",
      "Requirement already satisfied: jupyter-console in c:\\users\\asztr\\appdata\\local\\programs\\python\\python312\\lib\\site-packages (from jupyter==1.1.1->-r requirements.txt (line 14)) (6.6.3)\n",
      "Requirement already satisfied: ipykernel in c:\\users\\asztr\\appdata\\roaming\\python\\python312\\site-packages (from jupyter==1.1.1->-r requirements.txt (line 14)) (6.29.5)\n",
      "Requirement already satisfied: ipywidgets in c:\\users\\asztr\\appdata\\local\\programs\\python\\python312\\lib\\site-packages (from jupyter==1.1.1->-r requirements.txt (line 14)) (8.1.5)\n",
      "Requirement already satisfied: jupyterlab in c:\\users\\asztr\\appdata\\local\\programs\\python\\python312\\lib\\site-packages (from jupyter==1.1.1->-r requirements.txt (line 14)) (4.2.5)\n",
      "Requirement already satisfied: decorator in c:\\users\\asztr\\appdata\\roaming\\python\\python312\\site-packages (from IPython==8.28.0->-r requirements.txt (line 16)) (5.1.1)\n",
      "Requirement already satisfied: jedi>=0.16 in c:\\users\\asztr\\appdata\\roaming\\python\\python312\\site-packages (from IPython==8.28.0->-r requirements.txt (line 16)) (0.19.1)\n",
      "Requirement already satisfied: matplotlib-inline in c:\\users\\asztr\\appdata\\roaming\\python\\python312\\site-packages (from IPython==8.28.0->-r requirements.txt (line 16)) (0.1.7)\n",
      "Requirement already satisfied: prompt-toolkit<3.1.0,>=3.0.41 in c:\\users\\asztr\\appdata\\roaming\\python\\python312\\site-packages (from IPython==8.28.0->-r requirements.txt (line 16)) (3.0.47)\n",
      "Requirement already satisfied: stack-data in c:\\users\\asztr\\appdata\\roaming\\python\\python312\\site-packages (from IPython==8.28.0->-r requirements.txt (line 16)) (0.6.3)\n",
      "Requirement already satisfied: colorama in c:\\users\\asztr\\appdata\\roaming\\python\\python312\\site-packages (from IPython==8.28.0->-r requirements.txt (line 16)) (0.4.6)\n",
      "Requirement already satisfied: click!=8.0.0,>=7.1 in c:\\users\\asztr\\appdata\\local\\programs\\python\\python312\\lib\\site-packages (from wandb==0.18.5->-r requirements.txt (line 17)) (8.1.7)\n",
      "Requirement already satisfied: docker-pycreds>=0.4.0 in c:\\users\\asztr\\appdata\\local\\programs\\python\\python312\\lib\\site-packages (from wandb==0.18.5->-r requirements.txt (line 17)) (0.4.0)\n",
      "Requirement already satisfied: gitpython!=3.1.29,>=1.0.0 in c:\\users\\asztr\\appdata\\local\\programs\\python\\python312\\lib\\site-packages (from wandb==0.18.5->-r requirements.txt (line 17)) (3.1.43)\n",
      "Requirement already satisfied: platformdirs in c:\\users\\asztr\\appdata\\roaming\\python\\python312\\site-packages (from wandb==0.18.5->-r requirements.txt (line 17)) (4.3.2)\n",
      "Requirement already satisfied: psutil>=5.0.0 in c:\\users\\asztr\\appdata\\roaming\\python\\python312\\site-packages (from wandb==0.18.5->-r requirements.txt (line 17)) (6.0.0)\n",
      "Requirement already satisfied: requests<3,>=2.0.0 in c:\\users\\asztr\\appdata\\local\\programs\\python\\python312\\lib\\site-packages (from wandb==0.18.5->-r requirements.txt (line 17)) (2.32.3)\n",
      "Requirement already satisfied: sentry-sdk>=2.0.0 in c:\\users\\asztr\\appdata\\local\\programs\\python\\python312\\lib\\site-packages (from wandb==0.18.5->-r requirements.txt (line 17)) (2.17.0)\n",
      "Requirement already satisfied: setproctitle in c:\\users\\asztr\\appdata\\local\\programs\\python\\python312\\lib\\site-packages (from wandb==0.18.5->-r requirements.txt (line 17)) (1.3.3)\n",
      "Requirement already satisfied: setuptools in c:\\users\\asztr\\appdata\\local\\programs\\python\\python312\\lib\\site-packages (from wandb==0.18.5->-r requirements.txt (line 17)) (74.1.2)\n",
      "Requirement already satisfied: absl-py>=1.0.0 in c:\\users\\asztr\\appdata\\local\\programs\\python\\python312\\lib\\site-packages (from tensorflow-intel==2.17.0->tensorflow==2.17.0->-r requirements.txt (line 10)) (2.1.0)\n",
      "Requirement already satisfied: astunparse>=1.6.0 in c:\\users\\asztr\\appdata\\local\\programs\\python\\python312\\lib\\site-packages (from tensorflow-intel==2.17.0->tensorflow==2.17.0->-r requirements.txt (line 10)) (1.6.3)\n",
      "Requirement already satisfied: flatbuffers>=24.3.25 in c:\\users\\asztr\\appdata\\local\\programs\\python\\python312\\lib\\site-packages (from tensorflow-intel==2.17.0->tensorflow==2.17.0->-r requirements.txt (line 10)) (24.3.25)\n",
      "Requirement already satisfied: gast!=0.5.0,!=0.5.1,!=0.5.2,>=0.2.1 in c:\\users\\asztr\\appdata\\local\\programs\\python\\python312\\lib\\site-packages (from tensorflow-intel==2.17.0->tensorflow==2.17.0->-r requirements.txt (line 10)) (0.6.0)\n",
      "Requirement already satisfied: google-pasta>=0.1.1 in c:\\users\\asztr\\appdata\\local\\programs\\python\\python312\\lib\\site-packages (from tensorflow-intel==2.17.0->tensorflow==2.17.0->-r requirements.txt (line 10)) (0.2.0)\n",
      "Requirement already satisfied: h5py>=3.10.0 in c:\\users\\asztr\\appdata\\local\\programs\\python\\python312\\lib\\site-packages (from tensorflow-intel==2.17.0->tensorflow==2.17.0->-r requirements.txt (line 10)) (3.11.0)\n",
      "Requirement already satisfied: libclang>=13.0.0 in c:\\users\\asztr\\appdata\\local\\programs\\python\\python312\\lib\\site-packages (from tensorflow-intel==2.17.0->tensorflow==2.17.0->-r requirements.txt (line 10)) (18.1.1)\n",
      "Requirement already satisfied: ml-dtypes<0.5.0,>=0.3.1 in c:\\users\\asztr\\appdata\\local\\programs\\python\\python312\\lib\\site-packages (from tensorflow-intel==2.17.0->tensorflow==2.17.0->-r requirements.txt (line 10)) (0.4.1)\n",
      "Requirement already satisfied: opt-einsum>=2.3.2 in c:\\users\\asztr\\appdata\\local\\programs\\python\\python312\\lib\\site-packages (from tensorflow-intel==2.17.0->tensorflow==2.17.0->-r requirements.txt (line 10)) (3.3.0)\n",
      "Requirement already satisfied: six>=1.12.0 in c:\\users\\asztr\\appdata\\roaming\\python\\python312\\site-packages (from tensorflow-intel==2.17.0->tensorflow==2.17.0->-r requirements.txt (line 10)) (1.16.0)\n",
      "Requirement already satisfied: termcolor>=1.1.0 in c:\\users\\asztr\\appdata\\local\\programs\\python\\python312\\lib\\site-packages (from tensorflow-intel==2.17.0->tensorflow==2.17.0->-r requirements.txt (line 10)) (2.4.0)\n",
      "Requirement already satisfied: wrapt>=1.11.0 in c:\\users\\asztr\\appdata\\local\\programs\\python\\python312\\lib\\site-packages (from tensorflow-intel==2.17.0->tensorflow==2.17.0->-r requirements.txt (line 10)) (1.16.0)\n",
      "Requirement already satisfied: grpcio<2.0,>=1.24.3 in c:\\users\\asztr\\appdata\\local\\programs\\python\\python312\\lib\\site-packages (from tensorflow-intel==2.17.0->tensorflow==2.17.0->-r requirements.txt (line 10)) (1.66.1)\n",
      "Requirement already satisfied: tensorboard<2.18,>=2.17 in c:\\users\\asztr\\appdata\\local\\programs\\python\\python312\\lib\\site-packages (from tensorflow-intel==2.17.0->tensorflow==2.17.0->-r requirements.txt (line 10)) (2.17.1)\n",
      "Requirement already satisfied: keras>=3.2.0 in c:\\users\\asztr\\appdata\\local\\programs\\python\\python312\\lib\\site-packages (from tensorflow-intel==2.17.0->tensorflow==2.17.0->-r requirements.txt (line 10)) (3.5.0)\n",
      "Requirement already satisfied: webencodings in c:\\users\\asztr\\appdata\\local\\programs\\python\\python312\\lib\\site-packages (from bleach!=5.0.0->nbconvert==7.16.4->-r requirements.txt (line 13)) (0.5.1)\n",
      "Requirement already satisfied: aiohttp!=4.0.0a0,!=4.0.0a1 in c:\\users\\asztr\\appdata\\local\\programs\\python\\python312\\lib\\site-packages (from fsspec[http]>=2022.5.0->pytorch-lightning==2.4.0->-r requirements.txt (line 7)) (3.10.10)\n",
      "Requirement already satisfied: gitdb<5,>=4.0.1 in c:\\users\\asztr\\appdata\\local\\programs\\python\\python312\\lib\\site-packages (from gitpython!=3.1.29,>=1.0.0->wandb==0.18.5->-r requirements.txt (line 17)) (4.0.11)\n",
      "Requirement already satisfied: parso<0.9.0,>=0.8.3 in c:\\users\\asztr\\appdata\\roaming\\python\\python312\\site-packages (from jedi>=0.16->IPython==8.28.0->-r requirements.txt (line 16)) (0.8.4)\n",
      "Requirement already satisfied: pywin32>=300 in c:\\users\\asztr\\appdata\\roaming\\python\\python312\\site-packages (from jupyter-core>=4.7->nbconvert==7.16.4->-r requirements.txt (line 13)) (306)\n",
      "Requirement already satisfied: jupyter-client>=6.1.12 in c:\\users\\asztr\\appdata\\roaming\\python\\python312\\site-packages (from nbclient>=0.5.0->nbconvert==7.16.4->-r requirements.txt (line 13)) (8.6.2)\n",
      "Requirement already satisfied: fastjsonschema>=2.15 in c:\\users\\asztr\\appdata\\local\\programs\\python\\python312\\lib\\site-packages (from nbformat>=5.7->nbconvert==7.16.4->-r requirements.txt (line 13)) (2.20.0)\n",
      "Requirement already satisfied: jsonschema>=2.6 in c:\\users\\asztr\\appdata\\local\\programs\\python\\python312\\lib\\site-packages (from nbformat>=5.7->nbconvert==7.16.4->-r requirements.txt (line 13)) (4.23.0)\n",
      "Requirement already satisfied: wcwidth in c:\\users\\asztr\\appdata\\roaming\\python\\python312\\site-packages (from prompt-toolkit<3.1.0,>=3.0.41->IPython==8.28.0->-r requirements.txt (line 16)) (0.2.13)\n",
      "Requirement already satisfied: charset-normalizer<4,>=2 in c:\\users\\asztr\\appdata\\local\\programs\\python\\python312\\lib\\site-packages (from requests<3,>=2.0.0->wandb==0.18.5->-r requirements.txt (line 17)) (3.3.2)\n",
      "Requirement already satisfied: idna<4,>=2.5 in c:\\users\\asztr\\appdata\\local\\programs\\python\\python312\\lib\\site-packages (from requests<3,>=2.0.0->wandb==0.18.5->-r requirements.txt (line 17)) (3.10)\n",
      "Requirement already satisfied: urllib3<3,>=1.21.1 in c:\\users\\asztr\\appdata\\local\\programs\\python\\python312\\lib\\site-packages (from requests<3,>=2.0.0->wandb==0.18.5->-r requirements.txt (line 17)) (2.2.3)\n",
      "Requirement already satisfied: certifi>=2017.4.17 in c:\\users\\asztr\\appdata\\local\\programs\\python\\python312\\lib\\site-packages (from requests<3,>=2.0.0->wandb==0.18.5->-r requirements.txt (line 17)) (2024.8.30)\n",
      "Requirement already satisfied: filelock in c:\\users\\asztr\\appdata\\local\\programs\\python\\python312\\lib\\site-packages (from torch>=2.1.0->pytorch-lightning==2.4.0->-r requirements.txt (line 7)) (3.16.0)\n",
      "Requirement already satisfied: sympy in c:\\users\\asztr\\appdata\\local\\programs\\python\\python312\\lib\\site-packages (from torch>=2.1.0->pytorch-lightning==2.4.0->-r requirements.txt (line 7)) (1.13.1)\n",
      "Requirement already satisfied: networkx in c:\\users\\asztr\\appdata\\local\\programs\\python\\python312\\lib\\site-packages (from torch>=2.1.0->pytorch-lightning==2.4.0->-r requirements.txt (line 7)) (3.3)\n",
      "Requirement already satisfied: soupsieve>1.2 in c:\\users\\asztr\\appdata\\local\\programs\\python\\python312\\lib\\site-packages (from beautifulsoup4->nbconvert==7.16.4->-r requirements.txt (line 13)) (2.6)\n",
      "Requirement already satisfied: comm>=0.1.1 in c:\\users\\asztr\\appdata\\roaming\\python\\python312\\site-packages (from ipykernel->jupyter==1.1.1->-r requirements.txt (line 14)) (0.2.2)\n",
      "Requirement already satisfied: debugpy>=1.6.5 in c:\\users\\asztr\\appdata\\roaming\\python\\python312\\site-packages (from ipykernel->jupyter==1.1.1->-r requirements.txt (line 14)) (1.8.5)\n",
      "Requirement already satisfied: nest-asyncio in c:\\users\\asztr\\appdata\\roaming\\python\\python312\\site-packages (from ipykernel->jupyter==1.1.1->-r requirements.txt (line 14)) (1.6.0)\n",
      "Requirement already satisfied: pyzmq>=24 in c:\\users\\asztr\\appdata\\roaming\\python\\python312\\site-packages (from ipykernel->jupyter==1.1.1->-r requirements.txt (line 14)) (26.2.0)\n",
      "Requirement already satisfied: tornado>=6.1 in c:\\users\\asztr\\appdata\\roaming\\python\\python312\\site-packages (from ipykernel->jupyter==1.1.1->-r requirements.txt (line 14)) (6.4.1)\n",
      "Requirement already satisfied: widgetsnbextension~=4.0.12 in c:\\users\\asztr\\appdata\\local\\programs\\python\\python312\\lib\\site-packages (from ipywidgets->jupyter==1.1.1->-r requirements.txt (line 14)) (4.0.13)\n",
      "Requirement already satisfied: jupyterlab-widgets~=3.0.12 in c:\\users\\asztr\\appdata\\local\\programs\\python\\python312\\lib\\site-packages (from ipywidgets->jupyter==1.1.1->-r requirements.txt (line 14)) (3.0.13)\n",
      "Requirement already satisfied: async-lru>=1.0.0 in c:\\users\\asztr\\appdata\\local\\programs\\python\\python312\\lib\\site-packages (from jupyterlab->jupyter==1.1.1->-r requirements.txt (line 14)) (2.0.4)\n",
      "Requirement already satisfied: httpx>=0.25.0 in c:\\users\\asztr\\appdata\\local\\programs\\python\\python312\\lib\\site-packages (from jupyterlab->jupyter==1.1.1->-r requirements.txt (line 14)) (0.27.2)\n",
      "Requirement already satisfied: jupyter-lsp>=2.0.0 in c:\\users\\asztr\\appdata\\local\\programs\\python\\python312\\lib\\site-packages (from jupyterlab->jupyter==1.1.1->-r requirements.txt (line 14)) (2.2.5)\n",
      "Requirement already satisfied: jupyter-server<3,>=2.4.0 in c:\\users\\asztr\\appdata\\local\\programs\\python\\python312\\lib\\site-packages (from jupyterlab->jupyter==1.1.1->-r requirements.txt (line 14)) (2.14.2)\n",
      "Requirement already satisfied: jupyterlab-server<3,>=2.27.1 in c:\\users\\asztr\\appdata\\local\\programs\\python\\python312\\lib\\site-packages (from jupyterlab->jupyter==1.1.1->-r requirements.txt (line 14)) (2.27.3)\n",
      "Requirement already satisfied: notebook-shim>=0.2 in c:\\users\\asztr\\appdata\\local\\programs\\python\\python312\\lib\\site-packages (from jupyterlab->jupyter==1.1.1->-r requirements.txt (line 14)) (0.2.4)\n",
      "Requirement already satisfied: executing>=1.2.0 in c:\\users\\asztr\\appdata\\roaming\\python\\python312\\site-packages (from stack-data->IPython==8.28.0->-r requirements.txt (line 16)) (2.1.0)\n",
      "Requirement already satisfied: asttokens>=2.1.0 in c:\\users\\asztr\\appdata\\roaming\\python\\python312\\site-packages (from stack-data->IPython==8.28.0->-r requirements.txt (line 16)) (2.4.1)\n",
      "Requirement already satisfied: pure-eval in c:\\users\\asztr\\appdata\\roaming\\python\\python312\\site-packages (from stack-data->IPython==8.28.0->-r requirements.txt (line 16)) (0.2.3)\n",
      "Requirement already satisfied: aiohappyeyeballs>=2.3.0 in c:\\users\\asztr\\appdata\\local\\programs\\python\\python312\\lib\\site-packages (from aiohttp!=4.0.0a0,!=4.0.0a1->fsspec[http]>=2022.5.0->pytorch-lightning==2.4.0->-r requirements.txt (line 7)) (2.4.3)\n",
      "Requirement already satisfied: aiosignal>=1.1.2 in c:\\users\\asztr\\appdata\\local\\programs\\python\\python312\\lib\\site-packages (from aiohttp!=4.0.0a0,!=4.0.0a1->fsspec[http]>=2022.5.0->pytorch-lightning==2.4.0->-r requirements.txt (line 7)) (1.3.1)\n",
      "Requirement already satisfied: attrs>=17.3.0 in c:\\users\\asztr\\appdata\\local\\programs\\python\\python312\\lib\\site-packages (from aiohttp!=4.0.0a0,!=4.0.0a1->fsspec[http]>=2022.5.0->pytorch-lightning==2.4.0->-r requirements.txt (line 7)) (24.2.0)\n",
      "Requirement already satisfied: frozenlist>=1.1.1 in c:\\users\\asztr\\appdata\\local\\programs\\python\\python312\\lib\\site-packages (from aiohttp!=4.0.0a0,!=4.0.0a1->fsspec[http]>=2022.5.0->pytorch-lightning==2.4.0->-r requirements.txt (line 7)) (1.5.0)\n",
      "Requirement already satisfied: multidict<7.0,>=4.5 in c:\\users\\asztr\\appdata\\local\\programs\\python\\python312\\lib\\site-packages (from aiohttp!=4.0.0a0,!=4.0.0a1->fsspec[http]>=2022.5.0->pytorch-lightning==2.4.0->-r requirements.txt (line 7)) (6.1.0)\n",
      "Requirement already satisfied: yarl<2.0,>=1.12.0 in c:\\users\\asztr\\appdata\\local\\programs\\python\\python312\\lib\\site-packages (from aiohttp!=4.0.0a0,!=4.0.0a1->fsspec[http]>=2022.5.0->pytorch-lightning==2.4.0->-r requirements.txt (line 7)) (1.17.1)\n",
      "Requirement already satisfied: wheel<1.0,>=0.23.0 in c:\\users\\asztr\\appdata\\local\\programs\\python\\python312\\lib\\site-packages (from astunparse>=1.6.0->tensorflow-intel==2.17.0->tensorflow==2.17.0->-r requirements.txt (line 10)) (0.44.0)\n",
      "Requirement already satisfied: smmap<6,>=3.0.1 in c:\\users\\asztr\\appdata\\local\\programs\\python\\python312\\lib\\site-packages (from gitdb<5,>=4.0.1->gitpython!=3.1.29,>=1.0.0->wandb==0.18.5->-r requirements.txt (line 17)) (5.0.1)\n",
      "Requirement already satisfied: anyio in c:\\users\\asztr\\appdata\\local\\programs\\python\\python312\\lib\\site-packages (from httpx>=0.25.0->jupyterlab->jupyter==1.1.1->-r requirements.txt (line 14)) (4.6.2.post1)\n",
      "Requirement already satisfied: httpcore==1.* in c:\\users\\asztr\\appdata\\local\\programs\\python\\python312\\lib\\site-packages (from httpx>=0.25.0->jupyterlab->jupyter==1.1.1->-r requirements.txt (line 14)) (1.0.6)\n",
      "Requirement already satisfied: sniffio in c:\\users\\asztr\\appdata\\local\\programs\\python\\python312\\lib\\site-packages (from httpx>=0.25.0->jupyterlab->jupyter==1.1.1->-r requirements.txt (line 14)) (1.3.1)\n",
      "Requirement already satisfied: h11<0.15,>=0.13 in c:\\users\\asztr\\appdata\\local\\programs\\python\\python312\\lib\\site-packages (from httpcore==1.*->httpx>=0.25.0->jupyterlab->jupyter==1.1.1->-r requirements.txt (line 14)) (0.14.0)\n",
      "Requirement already satisfied: jsonschema-specifications>=2023.03.6 in c:\\users\\asztr\\appdata\\local\\programs\\python\\python312\\lib\\site-packages (from jsonschema>=2.6->nbformat>=5.7->nbconvert==7.16.4->-r requirements.txt (line 13)) (2024.10.1)\n",
      "Requirement already satisfied: referencing>=0.28.4 in c:\\users\\asztr\\appdata\\local\\programs\\python\\python312\\lib\\site-packages (from jsonschema>=2.6->nbformat>=5.7->nbconvert==7.16.4->-r requirements.txt (line 13)) (0.35.1)\n",
      "Requirement already satisfied: rpds-py>=0.7.1 in c:\\users\\asztr\\appdata\\local\\programs\\python\\python312\\lib\\site-packages (from jsonschema>=2.6->nbformat>=5.7->nbconvert==7.16.4->-r requirements.txt (line 13)) (0.20.1)\n",
      "Requirement already satisfied: argon2-cffi>=21.1 in c:\\users\\asztr\\appdata\\local\\programs\\python\\python312\\lib\\site-packages (from jupyter-server<3,>=2.4.0->jupyterlab->jupyter==1.1.1->-r requirements.txt (line 14)) (23.1.0)\n",
      "Requirement already satisfied: jupyter-events>=0.9.0 in c:\\users\\asztr\\appdata\\local\\programs\\python\\python312\\lib\\site-packages (from jupyter-server<3,>=2.4.0->jupyterlab->jupyter==1.1.1->-r requirements.txt (line 14)) (0.10.0)\n",
      "Requirement already satisfied: jupyter-server-terminals>=0.4.4 in c:\\users\\asztr\\appdata\\local\\programs\\python\\python312\\lib\\site-packages (from jupyter-server<3,>=2.4.0->jupyterlab->jupyter==1.1.1->-r requirements.txt (line 14)) (0.5.3)\n",
      "Requirement already satisfied: overrides>=5.0 in c:\\users\\asztr\\appdata\\local\\programs\\python\\python312\\lib\\site-packages (from jupyter-server<3,>=2.4.0->jupyterlab->jupyter==1.1.1->-r requirements.txt (line 14)) (7.7.0)\n",
      "Requirement already satisfied: prometheus-client>=0.9 in c:\\users\\asztr\\appdata\\local\\programs\\python\\python312\\lib\\site-packages (from jupyter-server<3,>=2.4.0->jupyterlab->jupyter==1.1.1->-r requirements.txt (line 14)) (0.21.0)\n",
      "Requirement already satisfied: pywinpty>=2.0.1 in c:\\users\\asztr\\appdata\\local\\programs\\python\\python312\\lib\\site-packages (from jupyter-server<3,>=2.4.0->jupyterlab->jupyter==1.1.1->-r requirements.txt (line 14)) (2.0.14)\n",
      "Requirement already satisfied: send2trash>=1.8.2 in c:\\users\\asztr\\appdata\\local\\programs\\python\\python312\\lib\\site-packages (from jupyter-server<3,>=2.4.0->jupyterlab->jupyter==1.1.1->-r requirements.txt (line 14)) (1.8.3)\n",
      "Requirement already satisfied: terminado>=0.8.3 in c:\\users\\asztr\\appdata\\local\\programs\\python\\python312\\lib\\site-packages (from jupyter-server<3,>=2.4.0->jupyterlab->jupyter==1.1.1->-r requirements.txt (line 14)) (0.18.1)\n",
      "Requirement already satisfied: websocket-client>=1.7 in c:\\users\\asztr\\appdata\\local\\programs\\python\\python312\\lib\\site-packages (from jupyter-server<3,>=2.4.0->jupyterlab->jupyter==1.1.1->-r requirements.txt (line 14)) (1.8.0)\n",
      "Requirement already satisfied: babel>=2.10 in c:\\users\\asztr\\appdata\\local\\programs\\python\\python312\\lib\\site-packages (from jupyterlab-server<3,>=2.27.1->jupyterlab->jupyter==1.1.1->-r requirements.txt (line 14)) (2.16.0)\n",
      "Requirement already satisfied: json5>=0.9.0 in c:\\users\\asztr\\appdata\\local\\programs\\python\\python312\\lib\\site-packages (from jupyterlab-server<3,>=2.27.1->jupyterlab->jupyter==1.1.1->-r requirements.txt (line 14)) (0.9.25)\n",
      "Requirement already satisfied: rich in c:\\users\\asztr\\appdata\\local\\programs\\python\\python312\\lib\\site-packages (from keras>=3.2.0->tensorflow-intel==2.17.0->tensorflow==2.17.0->-r requirements.txt (line 10)) (13.8.1)\n",
      "Requirement already satisfied: namex in c:\\users\\asztr\\appdata\\local\\programs\\python\\python312\\lib\\site-packages (from keras>=3.2.0->tensorflow-intel==2.17.0->tensorflow==2.17.0->-r requirements.txt (line 10)) (0.0.8)\n",
      "Requirement already satisfied: optree in c:\\users\\asztr\\appdata\\local\\programs\\python\\python312\\lib\\site-packages (from keras>=3.2.0->tensorflow-intel==2.17.0->tensorflow==2.17.0->-r requirements.txt (line 10)) (0.12.1)\n",
      "Requirement already satisfied: markdown>=2.6.8 in c:\\users\\asztr\\appdata\\local\\programs\\python\\python312\\lib\\site-packages (from tensorboard<2.18,>=2.17->tensorflow-intel==2.17.0->tensorflow==2.17.0->-r requirements.txt (line 10)) (3.7)\n",
      "Requirement already satisfied: tensorboard-data-server<0.8.0,>=0.7.0 in c:\\users\\asztr\\appdata\\local\\programs\\python\\python312\\lib\\site-packages (from tensorboard<2.18,>=2.17->tensorflow-intel==2.17.0->tensorflow==2.17.0->-r requirements.txt (line 10)) (0.7.2)\n",
      "Requirement already satisfied: werkzeug>=1.0.1 in c:\\users\\asztr\\appdata\\local\\programs\\python\\python312\\lib\\site-packages (from tensorboard<2.18,>=2.17->tensorflow-intel==2.17.0->tensorflow==2.17.0->-r requirements.txt (line 10)) (3.0.4)\n",
      "Requirement already satisfied: mpmath<1.4,>=1.1.0 in c:\\users\\asztr\\appdata\\local\\programs\\python\\python312\\lib\\site-packages (from sympy->torch>=2.1.0->pytorch-lightning==2.4.0->-r requirements.txt (line 7)) (1.3.0)\n",
      "Requirement already satisfied: argon2-cffi-bindings in c:\\users\\asztr\\appdata\\local\\programs\\python\\python312\\lib\\site-packages (from argon2-cffi>=21.1->jupyter-server<3,>=2.4.0->jupyterlab->jupyter==1.1.1->-r requirements.txt (line 14)) (21.2.0)\n",
      "Requirement already satisfied: python-json-logger>=2.0.4 in c:\\users\\asztr\\appdata\\local\\programs\\python\\python312\\lib\\site-packages (from jupyter-events>=0.9.0->jupyter-server<3,>=2.4.0->jupyterlab->jupyter==1.1.1->-r requirements.txt (line 14)) (2.0.7)\n",
      "Requirement already satisfied: rfc3339-validator in c:\\users\\asztr\\appdata\\local\\programs\\python\\python312\\lib\\site-packages (from jupyter-events>=0.9.0->jupyter-server<3,>=2.4.0->jupyterlab->jupyter==1.1.1->-r requirements.txt (line 14)) (0.1.4)\n",
      "Requirement already satisfied: rfc3986-validator>=0.1.1 in c:\\users\\asztr\\appdata\\local\\programs\\python\\python312\\lib\\site-packages (from jupyter-events>=0.9.0->jupyter-server<3,>=2.4.0->jupyterlab->jupyter==1.1.1->-r requirements.txt (line 14)) (0.1.1)\n",
      "Requirement already satisfied: propcache>=0.2.0 in c:\\users\\asztr\\appdata\\local\\programs\\python\\python312\\lib\\site-packages (from yarl<2.0,>=1.12.0->aiohttp!=4.0.0a0,!=4.0.0a1->fsspec[http]>=2022.5.0->pytorch-lightning==2.4.0->-r requirements.txt (line 7)) (0.2.0)\n",
      "Requirement already satisfied: markdown-it-py>=2.2.0 in c:\\users\\asztr\\appdata\\local\\programs\\python\\python312\\lib\\site-packages (from rich->keras>=3.2.0->tensorflow-intel==2.17.0->tensorflow==2.17.0->-r requirements.txt (line 10)) (3.0.0)\n",
      "Requirement already satisfied: fqdn in c:\\users\\asztr\\appdata\\local\\programs\\python\\python312\\lib\\site-packages (from jsonschema[format-nongpl]>=4.18.0->jupyter-events>=0.9.0->jupyter-server<3,>=2.4.0->jupyterlab->jupyter==1.1.1->-r requirements.txt (line 14)) (1.5.1)\n",
      "Requirement already satisfied: isoduration in c:\\users\\asztr\\appdata\\local\\programs\\python\\python312\\lib\\site-packages (from jsonschema[format-nongpl]>=4.18.0->jupyter-events>=0.9.0->jupyter-server<3,>=2.4.0->jupyterlab->jupyter==1.1.1->-r requirements.txt (line 14)) (20.11.0)\n",
      "Requirement already satisfied: jsonpointer>1.13 in c:\\users\\asztr\\appdata\\local\\programs\\python\\python312\\lib\\site-packages (from jsonschema[format-nongpl]>=4.18.0->jupyter-events>=0.9.0->jupyter-server<3,>=2.4.0->jupyterlab->jupyter==1.1.1->-r requirements.txt (line 14)) (3.0.0)\n",
      "Requirement already satisfied: uri-template in c:\\users\\asztr\\appdata\\local\\programs\\python\\python312\\lib\\site-packages (from jsonschema[format-nongpl]>=4.18.0->jupyter-events>=0.9.0->jupyter-server<3,>=2.4.0->jupyterlab->jupyter==1.1.1->-r requirements.txt (line 14)) (1.3.0)\n",
      "Requirement already satisfied: webcolors>=24.6.0 in c:\\users\\asztr\\appdata\\local\\programs\\python\\python312\\lib\\site-packages (from jsonschema[format-nongpl]>=4.18.0->jupyter-events>=0.9.0->jupyter-server<3,>=2.4.0->jupyterlab->jupyter==1.1.1->-r requirements.txt (line 14)) (24.8.0)\n",
      "Requirement already satisfied: mdurl~=0.1 in c:\\users\\asztr\\appdata\\local\\programs\\python\\python312\\lib\\site-packages (from markdown-it-py>=2.2.0->rich->keras>=3.2.0->tensorflow-intel==2.17.0->tensorflow==2.17.0->-r requirements.txt (line 10)) (0.1.2)\n",
      "Requirement already satisfied: cffi>=1.0.1 in c:\\users\\asztr\\appdata\\local\\programs\\python\\python312\\lib\\site-packages (from argon2-cffi-bindings->argon2-cffi>=21.1->jupyter-server<3,>=2.4.0->jupyterlab->jupyter==1.1.1->-r requirements.txt (line 14)) (1.17.1)\n",
      "Requirement already satisfied: pycparser in c:\\users\\asztr\\appdata\\local\\programs\\python\\python312\\lib\\site-packages (from cffi>=1.0.1->argon2-cffi-bindings->argon2-cffi>=21.1->jupyter-server<3,>=2.4.0->jupyterlab->jupyter==1.1.1->-r requirements.txt (line 14)) (2.22)\n",
      "Requirement already satisfied: arrow>=0.15.0 in c:\\users\\asztr\\appdata\\local\\programs\\python\\python312\\lib\\site-packages (from isoduration->jsonschema[format-nongpl]>=4.18.0->jupyter-events>=0.9.0->jupyter-server<3,>=2.4.0->jupyterlab->jupyter==1.1.1->-r requirements.txt (line 14)) (1.3.0)\n",
      "Requirement already satisfied: types-python-dateutil>=2.8.10 in c:\\users\\asztr\\appdata\\local\\programs\\python\\python312\\lib\\site-packages (from arrow>=0.15.0->isoduration->jsonschema[format-nongpl]>=4.18.0->jupyter-events>=0.9.0->jupyter-server<3,>=2.4.0->jupyterlab->jupyter==1.1.1->-r requirements.txt (line 14)) (2.9.0.20241003)\n"
     ]
    },
    {
     "name": "stderr",
     "output_type": "stream",
     "text": [
      "\n",
      "[notice] A new release of pip is available: 24.2 -> 24.3.1\n",
      "[notice] To update, run: python.exe -m pip install --upgrade pip\n"
     ]
    }
   ],
   "source": [
    "try:\n",
    "\timport google.colab\n",
    "\tIN_COLAB = True\n",
    "except ImportError:\n",
    "\tIN_COLAB = False\n",
    "\n",
    "if IN_COLAB:\n",
    "\t!pip install scikit-learn matplotlib numpy pandas torch pytorch-lightning torchvision tensorboardx tensorflow\n",
    "else:\n",
    "\t!pip install -r requirements.txt"
   ]
  },
  {
   "cell_type": "code",
   "execution_count": 1,
   "metadata": {
    "id": "s76FHF1yzH4W"
   },
   "outputs": [],
   "source": [
    "import pandas as pd\n",
    "import numpy as np\n",
    "import matplotlib.pyplot as plt\n",
    "import seaborn as sns\n",
    "\n",
    "import pytorch_lightning as pl\n",
    "from lightning.pytorch import Trainer\n",
    "from lightning.pytorch.loggers import WandbLogger\n",
    "\n",
    "import wandb\n",
    "import os\n",
    "wandb_api_key = os.getenv(\"WANDB_API_KEY\")\n",
    "\n",
    "import torch\n",
    "from torch import nn\n",
    "from torch.nn import functional as F\n",
    "from torch.utils.data import random_split, DataLoader\n",
    "from torchvision import transforms\n",
    "\n",
    "from IPython.display import display\n",
    "\t# make it not fail in terminal execution\n",
    "from typing import override\n",
    "\n",
    "from torchvision import datasets\n",
    "from torchvision.transforms.v2 import CenterCrop\n",
    "from sklearn.model_selection import train_test_split"
   ]
  },
  {
   "cell_type": "markdown",
   "metadata": {
    "id": "fG7p1mNLnNyp"
   },
   "source": [
    "## Hyperparameter configuration, set random states"
   ]
  },
  {
   "cell_type": "code",
   "execution_count": 15,
   "metadata": {
    "id": "dQmMlBZUaZLK"
   },
   "outputs": [],
   "source": [
    "# hyperparameters\n",
    "random_state = 42 # random state\n",
    "test_val_size = 0.2 # size of test and validation together to the whole dataset\n",
    "test_size = 0.5 # size of test to test and validation together\n",
    "num_workers = 2 # number of workers for data loading\n",
    "batch_size = 1024\n",
    "\n",
    "is_celeba_on = False # celebA is needed or not\n",
    "use_wandb = False"
   ]
  },
  {
   "cell_type": "code",
   "execution_count": 3,
   "metadata": {
    "colab": {
     "base_uri": "https://localhost:8080/"
    },
    "id": "l8duL9C9aeKU",
    "outputId": "b5a3d6dc-1c32-4957-987a-27fda5c717a8"
   },
   "outputs": [
    {
     "data": {
      "text/plain": [
       "<torch._C.Generator at 0x1bec0034870>"
      ]
     },
     "execution_count": 3,
     "metadata": {},
     "output_type": "execute_result"
    }
   ],
   "source": [
    "# Fix random early on\n",
    "np.random.seed(random_state)\n",
    "torch.manual_seed(random_state)"
   ]
  },
  {
   "cell_type": "markdown",
   "metadata": {
    "id": "Pg3Yb0LpnLKa"
   },
   "source": [
    "## Data modules"
   ]
  },
  {
   "cell_type": "markdown",
   "metadata": {},
   "source": [
    "### Custom dataset omitting targets"
   ]
  },
  {
   "cell_type": "code",
   "execution_count": 4,
   "metadata": {},
   "outputs": [],
   "source": [
    "class NoTargetDataset(torch.utils.data.Dataset):\n",
    "\tdef __init__(self, original_dataset):\n",
    "\t\tself.original_dataset = original_dataset\n",
    "\n",
    "\t@override\n",
    "\tdef __len__(self):\n",
    "\t\treturn len(self.original_dataset)\n",
    "\n",
    "\t@override\n",
    "\tdef __getitem__(self, idx):\n",
    "\t\timage, _ = self.original_dataset[idx]\n",
    "\t\treturn image"
   ]
  },
  {
   "cell_type": "markdown",
   "metadata": {
    "id": "K7FWYXE58Hn_"
   },
   "source": [
    "### Flowers Module"
   ]
  },
  {
   "cell_type": "code",
   "execution_count": 13,
   "metadata": {
    "id": "s3El1W3naTXG"
   },
   "outputs": [],
   "source": [
    "# Flowers data module\n",
    "class FlowersDataModule(pl.LightningDataModule):\n",
    "\tdef __init__(self, batch_size):\n",
    "\t\tsuper().__init__()\n",
    "\t\tself.name = \"Flowers102\"\n",
    "\t\tself.batch_size = batch_size\n",
    "\t\tself.base_transform = transforms.Compose([\n",
    "\t\t\ttransforms.CenterCrop(500),\n",
    "\t\t\ttransforms.Resize(64),\n",
    "\t\t\ttransforms.ToTensor(),\n",
    "\t\t\ttransforms.Lambda(lambda img: (img - 0.5) * 2)\n",
    "\t\t])\n",
    "\t\tself.reverse_transform = transforms.Compose([\n",
    "\t\t\ttransforms.Lambda(lambda img: img / 2 + 0.5),\n",
    "\t\t\ttransforms.Lambda(lambda img: img.permute(1, 2, 0).numpy() * 255),\n",
    "\t\t\ttransforms.Lambda(lambda img: img.astype(np.uint8))\n",
    "\t\t])\n",
    "\n",
    "\t\tself.dataset_notransform = NoTargetDataset(torch.utils.data.ConcatDataset([\n",
    "\t\t\tdatasets.Flowers102('./data', download=True, split=\"train\"),\n",
    "\t\t\tdatasets.Flowers102('./data', download=True, split=\"test\"),\n",
    "\t\t\tdatasets.Flowers102('./data', download=True, split=\"val\")\n",
    "\t\t]))\n",
    "\t\tself.dataset = NoTargetDataset(torch.utils.data.ConcatDataset([\n",
    "\t\t\tdatasets.Flowers102('./data', download=True, split=\"train\", transform=self.base_transform),\n",
    "\t\t\tdatasets.Flowers102('./data', download=True, split=\"test\", transform=self.base_transform),\n",
    "\t\t\tdatasets.Flowers102('./data', download=True, split=\"val\", transform=self.base_transform)\n",
    "\t\t]))\n",
    "\n",
    "\t@override\n",
    "\tdef setup(self, stage=None):\n",
    "\t\ttrain, test_val = train_test_split(self.dataset, test_size=test_val_size, random_state=random_state)\n",
    "\t\ttest, val = train_test_split(test_val, test_size=test_size, random_state=random_state)\n",
    "\t\tself.train_dataset = train\n",
    "\t\tself.val_dataset = val\n",
    "\t\tself.test_dataset = test\n",
    "\n",
    "\t@override\n",
    "\tdef train_dataloader(self):\n",
    "\t\treturn torch.utils.data.DataLoader(\n",
    "\t\t\tself.train_dataset,\n",
    "\t\t\tbatch_size=self.batch_size,\n",
    "\t\t\tnum_workers=num_workers,\n",
    "\t\t\tpin_memory=True,\n",
    "\t\t\tdrop_last=True,\n",
    "\t\t\tshuffle=False,\n",
    "\t\t\tpersistent_workers=True\n",
    "\t\t\t\t# avoid recreating after every fast epoch\n",
    "\t\t)\n",
    "\n",
    "\t@override\n",
    "\tdef val_dataloader(self):\n",
    "\t\treturn torch.utils.data.DataLoader(\n",
    "\t\t\tself.val_dataset,\n",
    "\t\t\tbatch_size=self.batch_size,\n",
    "\t\t\tnum_workers=num_workers,\n",
    "\t\t\tpin_memory=True,\n",
    "\t\t\tshuffle=False,\n",
    "\t\t\tpersistent_workers=True\n",
    "\t\t)\n",
    "\n",
    "\t@override\n",
    "\tdef test_dataloader(self):\n",
    "\t\treturn DataLoader(\n",
    "\t\t\tself.test_dataset,\n",
    "\t\t\tbatch_size=self.batch_size,\n",
    "\t\t\tnum_workers=num_workers,\n",
    "\t\t\tpin_memory=True,\n",
    "\t\t\tshuffle=False,\n",
    "\t\t\tpersistent_workers=True\n",
    "\t\t)"
   ]
  },
  {
   "cell_type": "markdown",
   "metadata": {
    "id": "-hiaBpRb8Piu"
   },
   "source": [
    "### CelebA Module"
   ]
  },
  {
   "cell_type": "code",
   "execution_count": 7,
   "metadata": {
    "id": "R--PobFFcCdx"
   },
   "outputs": [],
   "source": [
    "# Celeba data module: TODO need to convert\n",
    "class CelebaDataModule(pl.LightningDataModule):\n",
    "\tdef __init__(self, len_flowers_dataset):\n",
    "\t\tsuper().__init__()\n",
    "\t\tself.name = \"CelebA\"\n",
    "\t\tself.train_transform = transforms.Compose([\n",
    "\t\t\t\t# may add random transformation steps\n",
    "\t\t\t\ttransforms.CenterCrop(178),\n",
    "\t\t\t\ttransforms.Resize(64),\n",
    "\t\t\t\ttransforms.ToTensor(),\n",
    "\t\t\t\ttransforms.Lambda(lambda img: (img - 0.5) * 2)\n",
    "\t\t])\n",
    "\t\tself.val_transform = transforms.Compose([\n",
    "\t\t\t\ttransforms.CenterCrop(178),\n",
    "\t\t\t\ttransforms.Resize(64),\n",
    "\t\t\t\ttransforms.ToTensor(),\n",
    "\t\t\t\ttransforms.Lambda(lambda img: (img - 0.5) * 2)\n",
    "\t\t])\n",
    "\t\tself.reverse_transform = transforms.Compose([\n",
    "\t\t\t\ttransforms.Lambda(lambda img: img / 2 + 0.5),\n",
    "\t\t\t\ttransforms.Lambda(lambda img: img.permute(1, 2, 0).numpy() * 255),\n",
    "\t\t\t\ttransforms.Lambda(lambda img: img.astype(np.uint8))\n",
    "\t\t])\n",
    "\t\t# To compare the model on a different dataset it should be the same size (currently 8k vs 200k)\n",
    "\t\tself.dataset = torch.utils.data.Subset(\n",
    "\t\t\t\tdatasets.CelebA('./data', download=True, split=\"all\"),\n",
    "\t\t\t\tnp.random.choice(len_flowers_dataset, len_flowers_dataset, replace=False)\n",
    "\t\t)\n",
    "\n",
    "\tdef setup(self):\n",
    "\t\ttrain, test_val = train_test_split(self.dataset, test_size=test_val_size, random_state=random_state)\n",
    "\t\ttest, val = train_test_split(test_val, test_size=test_size, random_state=random_state)\n",
    "\t\tself.train_dataset = train.with_transform(self.preprocess_train)\n",
    "\t\tself.val_dataset = val.with_transform(self.preprocess_val)\n",
    "\t\tself.test_dataset = test\n",
    "\n",
    "\tdef train_dataloader(self):\n",
    "\t\treturn torch.utils.data.DataLoader(\n",
    "\t\t\t\tself.train_dataset,\n",
    "\t\t\t\tbatch_size=batch_size,\n",
    "\t\t\t\tnum_workers=num_workers,\n",
    "\t\t\t\tpin_memory=True,\n",
    "\t\t\t\tdrop_last=True,\n",
    "\t\t\t\tshuffle=False,\n",
    "\t\t)\n",
    "\n",
    "\tdef val_dataloader(self):\n",
    "\t\treturn torch.utils.data.DataLoader(\n",
    "\t\t\t\tself.val_dataset,\n",
    "\t\t\t\tbatch_size=batch_size,\n",
    "\t\t\t\tnum_workers=num_workers,\n",
    "\t\t\t\tpin_memory=True,\n",
    "\t\t\t\tshuffle=False,\n",
    "\t\t)\n",
    "\n",
    "\tdef test_dataloader(self):\n",
    "\t\treturn DataLoader(\n",
    "\t\t\t\tself.test_dataset,\n",
    "\t\t\t\tbatch_size=batch_size,\n",
    "\t\t\t\tnum_workers=num_workers,\n",
    "\t\t\t\tpin_memory=True,\n",
    "\t\t\t\tshuffle=False,\n",
    "\t\t)\n",
    "\n",
    "\tdef __preprocess_train(self, batch):\n",
    "\t\tbatch[\"image\"] = [self.train_transform(image) for image in batch[\"image\"]]\n",
    "\t\treturn batch\n",
    "\n",
    "\tdef __preprocess_val(self, batch):\n",
    "\t\tbatch[\"image\"] = [self.val_transform(image) for image in batch[\"image\"]]\n",
    "\t\treturn batch"
   ]
  },
  {
   "cell_type": "markdown",
   "metadata": {
    "id": "EiBsJG9_ngWC"
   },
   "source": [
    "## DataModule creation\n",
    "For visualization & analysis"
   ]
  },
  {
   "cell_type": "code",
   "execution_count": 16,
   "metadata": {
    "id": "Qd0hRYIJerXe"
   },
   "outputs": [],
   "source": [
    "# Create data module instances\n",
    "flowers_dm = FlowersDataModule(batch_size)\n",
    "flowers_dm.prepare_data()\n",
    "flowers_dm.setup()\n",
    "\n",
    "if is_celeba_on:\n",
    "\tceleba_dm = CelebaDataModule(len(flowers_dm.dataset))\n",
    "\tceleba_dm.prepare_data()\n",
    "\tceleba_dm.setup()"
   ]
  },
  {
   "cell_type": "markdown",
   "metadata": {
    "id": "s66XHrxVm9w8"
   },
   "source": [
    "## Data visualization"
   ]
  },
  {
   "cell_type": "code",
   "execution_count": 11,
   "metadata": {
    "colab": {
     "base_uri": "https://localhost:8080/",
     "height": 241
    },
    "id": "ZKPlp8g9zH4a",
    "outputId": "c9ae4352-4f43-4c37-a1e9-46a1a516f5cd"
   },
   "outputs": [
    {
     "data": {
      "application/vnd.google.colaboratory.intrinsic+json": {
       "summary": "{\n  \"name\": \"  analyze_size(celeba_dm\",\n  \"rows\": 5,\n  \"fields\": [\n    {\n      \"column\": \"height\",\n      \"properties\": {\n        \"dtype\": \"number\",\n        \"std\": 0,\n        \"min\": 500,\n        \"max\": 500,\n        \"num_unique_values\": 1,\n        \"samples\": [\n          500\n        ],\n        \"semantic_type\": \"\",\n        \"description\": \"\"\n      }\n    },\n    {\n      \"column\": \"width\",\n      \"properties\": {\n        \"dtype\": \"number\",\n        \"std\": 1,\n        \"min\": 500,\n        \"max\": 504,\n        \"num_unique_values\": 5,\n        \"samples\": [\n          501\n        ],\n        \"semantic_type\": \"\",\n        \"description\": \"\"\n      }\n    },\n    {\n      \"column\": \"channels\",\n      \"properties\": {\n        \"dtype\": \"number\",\n        \"std\": 0,\n        \"min\": 3,\n        \"max\": 3,\n        \"num_unique_values\": 1,\n        \"samples\": [\n          3\n        ],\n        \"semantic_type\": \"\",\n        \"description\": \"\"\n      }\n    },\n    {\n      \"column\": \"count\",\n      \"properties\": {\n        \"dtype\": \"number\",\n        \"std\": 27,\n        \"min\": 2,\n        \"max\": 70,\n        \"num_unique_values\": 4,\n        \"samples\": [\n          2\n        ],\n        \"semantic_type\": \"\",\n        \"description\": \"\"\n      }\n    }\n  ]\n}",
       "type": "dataframe"
      },
      "text/html": [
       "\n",
       "  <div id=\"df-92eac83e-26fa-48dd-b1c8-6458cc3899c2\" class=\"colab-df-container\">\n",
       "    <div>\n",
       "<style scoped>\n",
       "    .dataframe tbody tr th:only-of-type {\n",
       "        vertical-align: middle;\n",
       "    }\n",
       "\n",
       "    .dataframe tbody tr th {\n",
       "        vertical-align: top;\n",
       "    }\n",
       "\n",
       "    .dataframe thead th {\n",
       "        text-align: right;\n",
       "    }\n",
       "</style>\n",
       "<table border=\"1\" class=\"dataframe\">\n",
       "  <thead>\n",
       "    <tr style=\"text-align: right;\">\n",
       "      <th></th>\n",
       "      <th>height</th>\n",
       "      <th>width</th>\n",
       "      <th>channels</th>\n",
       "      <th>count</th>\n",
       "    </tr>\n",
       "  </thead>\n",
       "  <tbody>\n",
       "    <tr>\n",
       "      <th>0</th>\n",
       "      <td>500</td>\n",
       "      <td>500</td>\n",
       "      <td>3</td>\n",
       "      <td>70</td>\n",
       "    </tr>\n",
       "    <tr>\n",
       "      <th>1</th>\n",
       "      <td>500</td>\n",
       "      <td>501</td>\n",
       "      <td>3</td>\n",
       "      <td>2</td>\n",
       "    </tr>\n",
       "    <tr>\n",
       "      <th>2</th>\n",
       "      <td>500</td>\n",
       "      <td>502</td>\n",
       "      <td>3</td>\n",
       "      <td>10</td>\n",
       "    </tr>\n",
       "    <tr>\n",
       "      <th>3</th>\n",
       "      <td>500</td>\n",
       "      <td>503</td>\n",
       "      <td>3</td>\n",
       "      <td>10</td>\n",
       "    </tr>\n",
       "    <tr>\n",
       "      <th>4</th>\n",
       "      <td>500</td>\n",
       "      <td>504</td>\n",
       "      <td>3</td>\n",
       "      <td>11</td>\n",
       "    </tr>\n",
       "  </tbody>\n",
       "</table>\n",
       "</div>\n",
       "    <div class=\"colab-df-buttons\">\n",
       "\n",
       "  <div class=\"colab-df-container\">\n",
       "    <button class=\"colab-df-convert\" onclick=\"convertToInteractive('df-92eac83e-26fa-48dd-b1c8-6458cc3899c2')\"\n",
       "            title=\"Convert this dataframe to an interactive table.\"\n",
       "            style=\"display:none;\">\n",
       "\n",
       "  <svg xmlns=\"http://www.w3.org/2000/svg\" height=\"24px\" viewBox=\"0 -960 960 960\">\n",
       "    <path d=\"M120-120v-720h720v720H120Zm60-500h600v-160H180v160Zm220 220h160v-160H400v160Zm0 220h160v-160H400v160ZM180-400h160v-160H180v160Zm440 0h160v-160H620v160ZM180-180h160v-160H180v160Zm440 0h160v-160H620v160Z\"/>\n",
       "  </svg>\n",
       "    </button>\n",
       "\n",
       "  <style>\n",
       "    .colab-df-container {\n",
       "      display:flex;\n",
       "      gap: 12px;\n",
       "    }\n",
       "\n",
       "    .colab-df-convert {\n",
       "      background-color: #E8F0FE;\n",
       "      border: none;\n",
       "      border-radius: 50%;\n",
       "      cursor: pointer;\n",
       "      display: none;\n",
       "      fill: #1967D2;\n",
       "      height: 32px;\n",
       "      padding: 0 0 0 0;\n",
       "      width: 32px;\n",
       "    }\n",
       "\n",
       "    .colab-df-convert:hover {\n",
       "      background-color: #E2EBFA;\n",
       "      box-shadow: 0px 1px 2px rgba(60, 64, 67, 0.3), 0px 1px 3px 1px rgba(60, 64, 67, 0.15);\n",
       "      fill: #174EA6;\n",
       "    }\n",
       "\n",
       "    .colab-df-buttons div {\n",
       "      margin-bottom: 4px;\n",
       "    }\n",
       "\n",
       "    [theme=dark] .colab-df-convert {\n",
       "      background-color: #3B4455;\n",
       "      fill: #D2E3FC;\n",
       "    }\n",
       "\n",
       "    [theme=dark] .colab-df-convert:hover {\n",
       "      background-color: #434B5C;\n",
       "      box-shadow: 0px 1px 3px 1px rgba(0, 0, 0, 0.15);\n",
       "      filter: drop-shadow(0px 1px 2px rgba(0, 0, 0, 0.3));\n",
       "      fill: #FFFFFF;\n",
       "    }\n",
       "  </style>\n",
       "\n",
       "    <script>\n",
       "      const buttonEl =\n",
       "        document.querySelector('#df-92eac83e-26fa-48dd-b1c8-6458cc3899c2 button.colab-df-convert');\n",
       "      buttonEl.style.display =\n",
       "        google.colab.kernel.accessAllowed ? 'block' : 'none';\n",
       "\n",
       "      async function convertToInteractive(key) {\n",
       "        const element = document.querySelector('#df-92eac83e-26fa-48dd-b1c8-6458cc3899c2');\n",
       "        const dataTable =\n",
       "          await google.colab.kernel.invokeFunction('convertToInteractive',\n",
       "                                                    [key], {});\n",
       "        if (!dataTable) return;\n",
       "\n",
       "        const docLinkHtml = 'Like what you see? Visit the ' +\n",
       "          '<a target=\"_blank\" href=https://colab.research.google.com/notebooks/data_table.ipynb>data table notebook</a>'\n",
       "          + ' to learn more about interactive tables.';\n",
       "        element.innerHTML = '';\n",
       "        dataTable['output_type'] = 'display_data';\n",
       "        await google.colab.output.renderOutput(dataTable, element);\n",
       "        const docLink = document.createElement('div');\n",
       "        docLink.innerHTML = docLinkHtml;\n",
       "        element.appendChild(docLink);\n",
       "      }\n",
       "    </script>\n",
       "  </div>\n",
       "\n",
       "\n",
       "<div id=\"df-4f50edc5-974e-482e-967c-2f1b69f92521\">\n",
       "  <button class=\"colab-df-quickchart\" onclick=\"quickchart('df-4f50edc5-974e-482e-967c-2f1b69f92521')\"\n",
       "            title=\"Suggest charts\"\n",
       "            style=\"display:none;\">\n",
       "\n",
       "<svg xmlns=\"http://www.w3.org/2000/svg\" height=\"24px\"viewBox=\"0 0 24 24\"\n",
       "     width=\"24px\">\n",
       "    <g>\n",
       "        <path d=\"M19 3H5c-1.1 0-2 .9-2 2v14c0 1.1.9 2 2 2h14c1.1 0 2-.9 2-2V5c0-1.1-.9-2-2-2zM9 17H7v-7h2v7zm4 0h-2V7h2v10zm4 0h-2v-4h2v4z\"/>\n",
       "    </g>\n",
       "</svg>\n",
       "  </button>\n",
       "\n",
       "<style>\n",
       "  .colab-df-quickchart {\n",
       "      --bg-color: #E8F0FE;\n",
       "      --fill-color: #1967D2;\n",
       "      --hover-bg-color: #E2EBFA;\n",
       "      --hover-fill-color: #174EA6;\n",
       "      --disabled-fill-color: #AAA;\n",
       "      --disabled-bg-color: #DDD;\n",
       "  }\n",
       "\n",
       "  [theme=dark] .colab-df-quickchart {\n",
       "      --bg-color: #3B4455;\n",
       "      --fill-color: #D2E3FC;\n",
       "      --hover-bg-color: #434B5C;\n",
       "      --hover-fill-color: #FFFFFF;\n",
       "      --disabled-bg-color: #3B4455;\n",
       "      --disabled-fill-color: #666;\n",
       "  }\n",
       "\n",
       "  .colab-df-quickchart {\n",
       "    background-color: var(--bg-color);\n",
       "    border: none;\n",
       "    border-radius: 50%;\n",
       "    cursor: pointer;\n",
       "    display: none;\n",
       "    fill: var(--fill-color);\n",
       "    height: 32px;\n",
       "    padding: 0;\n",
       "    width: 32px;\n",
       "  }\n",
       "\n",
       "  .colab-df-quickchart:hover {\n",
       "    background-color: var(--hover-bg-color);\n",
       "    box-shadow: 0 1px 2px rgba(60, 64, 67, 0.3), 0 1px 3px 1px rgba(60, 64, 67, 0.15);\n",
       "    fill: var(--button-hover-fill-color);\n",
       "  }\n",
       "\n",
       "  .colab-df-quickchart-complete:disabled,\n",
       "  .colab-df-quickchart-complete:disabled:hover {\n",
       "    background-color: var(--disabled-bg-color);\n",
       "    fill: var(--disabled-fill-color);\n",
       "    box-shadow: none;\n",
       "  }\n",
       "\n",
       "  .colab-df-spinner {\n",
       "    border: 2px solid var(--fill-color);\n",
       "    border-color: transparent;\n",
       "    border-bottom-color: var(--fill-color);\n",
       "    animation:\n",
       "      spin 1s steps(1) infinite;\n",
       "  }\n",
       "\n",
       "  @keyframes spin {\n",
       "    0% {\n",
       "      border-color: transparent;\n",
       "      border-bottom-color: var(--fill-color);\n",
       "      border-left-color: var(--fill-color);\n",
       "    }\n",
       "    20% {\n",
       "      border-color: transparent;\n",
       "      border-left-color: var(--fill-color);\n",
       "      border-top-color: var(--fill-color);\n",
       "    }\n",
       "    30% {\n",
       "      border-color: transparent;\n",
       "      border-left-color: var(--fill-color);\n",
       "      border-top-color: var(--fill-color);\n",
       "      border-right-color: var(--fill-color);\n",
       "    }\n",
       "    40% {\n",
       "      border-color: transparent;\n",
       "      border-right-color: var(--fill-color);\n",
       "      border-top-color: var(--fill-color);\n",
       "    }\n",
       "    60% {\n",
       "      border-color: transparent;\n",
       "      border-right-color: var(--fill-color);\n",
       "    }\n",
       "    80% {\n",
       "      border-color: transparent;\n",
       "      border-right-color: var(--fill-color);\n",
       "      border-bottom-color: var(--fill-color);\n",
       "    }\n",
       "    90% {\n",
       "      border-color: transparent;\n",
       "      border-bottom-color: var(--fill-color);\n",
       "    }\n",
       "  }\n",
       "</style>\n",
       "\n",
       "  <script>\n",
       "    async function quickchart(key) {\n",
       "      const quickchartButtonEl =\n",
       "        document.querySelector('#' + key + ' button');\n",
       "      quickchartButtonEl.disabled = true;  // To prevent multiple clicks.\n",
       "      quickchartButtonEl.classList.add('colab-df-spinner');\n",
       "      try {\n",
       "        const charts = await google.colab.kernel.invokeFunction(\n",
       "            'suggestCharts', [key], {});\n",
       "      } catch (error) {\n",
       "        console.error('Error during call to suggestCharts:', error);\n",
       "      }\n",
       "      quickchartButtonEl.classList.remove('colab-df-spinner');\n",
       "      quickchartButtonEl.classList.add('colab-df-quickchart-complete');\n",
       "    }\n",
       "    (() => {\n",
       "      let quickchartButtonEl =\n",
       "        document.querySelector('#df-4f50edc5-974e-482e-967c-2f1b69f92521 button');\n",
       "      quickchartButtonEl.style.display =\n",
       "        google.colab.kernel.accessAllowed ? 'block' : 'none';\n",
       "    })();\n",
       "  </script>\n",
       "</div>\n",
       "\n",
       "    </div>\n",
       "  </div>\n"
      ],
      "text/plain": [
       "   height  width  channels  count\n",
       "0     500    500         3     70\n",
       "1     500    501         3      2\n",
       "2     500    502         3     10\n",
       "3     500    503         3     10\n",
       "4     500    504         3     11"
      ]
     },
     "metadata": {},
     "output_type": "display_data"
    },
    {
     "name": "stdout",
     "output_type": "stream",
     "text": [
      "Flowers102 min height 500\n",
      "Flowers102 min width 500\n"
     ]
    }
   ],
   "source": [
    "# Show sizes of images\n",
    "def analyze_size(imgs, text, cols=[\"height\", \"width\", \"channels\"]):\n",
    "\tsizes = pd.DataFrame([np.array(img).shape for img in imgs])\n",
    "\tsizes.columns = cols\n",
    "\tgrouped_df = sizes.groupby(cols).size().reset_index(name='count')\n",
    "\tdisplay(grouped_df.head())\n",
    "\tprint(text, \"min height\", sizes[\"height\"].min())\n",
    "\tprint(text, \"min width\", sizes[\"width\"].min())\n",
    "\n",
    "analyze_size(flowers_dm.dataset_notransform, flowers_dm.name)\n",
    "if is_celeba_on:\n",
    "\tanalyze_size(celeba_dm.dataset_notransform, celeba_dm.name)"
   ]
  },
  {
   "cell_type": "code",
   "execution_count": 13,
   "metadata": {
    "colab": {
     "base_uri": "https://localhost:8080/",
     "height": 115
    },
    "id": "7ua_UnfDmfzD",
    "outputId": "ef8b8ff4-5b07-4e79-d3ff-8b2701178a31"
   },
   "outputs": [
    {
     "data": {
      "application/vnd.google.colaboratory.intrinsic+json": {
       "summary": "{\n  \"name\": \" celeba_tensors = analyze_transformed(celeba_dm\",\n  \"rows\": 1,\n  \"fields\": [\n    {\n      \"column\": \"channels\",\n      \"properties\": {\n        \"dtype\": \"number\",\n        \"std\": null,\n        \"min\": 3,\n        \"max\": 3,\n        \"num_unique_values\": 1,\n        \"samples\": [\n          3\n        ],\n        \"semantic_type\": \"\",\n        \"description\": \"\"\n      }\n    },\n    {\n      \"column\": \"height\",\n      \"properties\": {\n        \"dtype\": \"number\",\n        \"std\": null,\n        \"min\": 64,\n        \"max\": 64,\n        \"num_unique_values\": 1,\n        \"samples\": [\n          64\n        ],\n        \"semantic_type\": \"\",\n        \"description\": \"\"\n      }\n    },\n    {\n      \"column\": \"width\",\n      \"properties\": {\n        \"dtype\": \"number\",\n        \"std\": null,\n        \"min\": 64,\n        \"max\": 64,\n        \"num_unique_values\": 1,\n        \"samples\": [\n          64\n        ],\n        \"semantic_type\": \"\",\n        \"description\": \"\"\n      }\n    },\n    {\n      \"column\": \"count\",\n      \"properties\": {\n        \"dtype\": \"number\",\n        \"std\": null,\n        \"min\": 8189,\n        \"max\": 8189,\n        \"num_unique_values\": 1,\n        \"samples\": [\n          8189\n        ],\n        \"semantic_type\": \"\",\n        \"description\": \"\"\n      }\n    }\n  ]\n}",
       "type": "dataframe"
      },
      "text/html": [
       "\n",
       "  <div id=\"df-1ebbe065-e676-4cd6-9044-5ad735204292\" class=\"colab-df-container\">\n",
       "    <div>\n",
       "<style scoped>\n",
       "    .dataframe tbody tr th:only-of-type {\n",
       "        vertical-align: middle;\n",
       "    }\n",
       "\n",
       "    .dataframe tbody tr th {\n",
       "        vertical-align: top;\n",
       "    }\n",
       "\n",
       "    .dataframe thead th {\n",
       "        text-align: right;\n",
       "    }\n",
       "</style>\n",
       "<table border=\"1\" class=\"dataframe\">\n",
       "  <thead>\n",
       "    <tr style=\"text-align: right;\">\n",
       "      <th></th>\n",
       "      <th>channels</th>\n",
       "      <th>height</th>\n",
       "      <th>width</th>\n",
       "      <th>count</th>\n",
       "    </tr>\n",
       "  </thead>\n",
       "  <tbody>\n",
       "    <tr>\n",
       "      <th>0</th>\n",
       "      <td>3</td>\n",
       "      <td>64</td>\n",
       "      <td>64</td>\n",
       "      <td>8189</td>\n",
       "    </tr>\n",
       "  </tbody>\n",
       "</table>\n",
       "</div>\n",
       "    <div class=\"colab-df-buttons\">\n",
       "\n",
       "  <div class=\"colab-df-container\">\n",
       "    <button class=\"colab-df-convert\" onclick=\"convertToInteractive('df-1ebbe065-e676-4cd6-9044-5ad735204292')\"\n",
       "            title=\"Convert this dataframe to an interactive table.\"\n",
       "            style=\"display:none;\">\n",
       "\n",
       "  <svg xmlns=\"http://www.w3.org/2000/svg\" height=\"24px\" viewBox=\"0 -960 960 960\">\n",
       "    <path d=\"M120-120v-720h720v720H120Zm60-500h600v-160H180v160Zm220 220h160v-160H400v160Zm0 220h160v-160H400v160ZM180-400h160v-160H180v160Zm440 0h160v-160H620v160ZM180-180h160v-160H180v160Zm440 0h160v-160H620v160Z\"/>\n",
       "  </svg>\n",
       "    </button>\n",
       "\n",
       "  <style>\n",
       "    .colab-df-container {\n",
       "      display:flex;\n",
       "      gap: 12px;\n",
       "    }\n",
       "\n",
       "    .colab-df-convert {\n",
       "      background-color: #E8F0FE;\n",
       "      border: none;\n",
       "      border-radius: 50%;\n",
       "      cursor: pointer;\n",
       "      display: none;\n",
       "      fill: #1967D2;\n",
       "      height: 32px;\n",
       "      padding: 0 0 0 0;\n",
       "      width: 32px;\n",
       "    }\n",
       "\n",
       "    .colab-df-convert:hover {\n",
       "      background-color: #E2EBFA;\n",
       "      box-shadow: 0px 1px 2px rgba(60, 64, 67, 0.3), 0px 1px 3px 1px rgba(60, 64, 67, 0.15);\n",
       "      fill: #174EA6;\n",
       "    }\n",
       "\n",
       "    .colab-df-buttons div {\n",
       "      margin-bottom: 4px;\n",
       "    }\n",
       "\n",
       "    [theme=dark] .colab-df-convert {\n",
       "      background-color: #3B4455;\n",
       "      fill: #D2E3FC;\n",
       "    }\n",
       "\n",
       "    [theme=dark] .colab-df-convert:hover {\n",
       "      background-color: #434B5C;\n",
       "      box-shadow: 0px 1px 3px 1px rgba(0, 0, 0, 0.15);\n",
       "      filter: drop-shadow(0px 1px 2px rgba(0, 0, 0, 0.3));\n",
       "      fill: #FFFFFF;\n",
       "    }\n",
       "  </style>\n",
       "\n",
       "    <script>\n",
       "      const buttonEl =\n",
       "        document.querySelector('#df-1ebbe065-e676-4cd6-9044-5ad735204292 button.colab-df-convert');\n",
       "      buttonEl.style.display =\n",
       "        google.colab.kernel.accessAllowed ? 'block' : 'none';\n",
       "\n",
       "      async function convertToInteractive(key) {\n",
       "        const element = document.querySelector('#df-1ebbe065-e676-4cd6-9044-5ad735204292');\n",
       "        const dataTable =\n",
       "          await google.colab.kernel.invokeFunction('convertToInteractive',\n",
       "                                                    [key], {});\n",
       "        if (!dataTable) return;\n",
       "\n",
       "        const docLinkHtml = 'Like what you see? Visit the ' +\n",
       "          '<a target=\"_blank\" href=https://colab.research.google.com/notebooks/data_table.ipynb>data table notebook</a>'\n",
       "          + ' to learn more about interactive tables.';\n",
       "        element.innerHTML = '';\n",
       "        dataTable['output_type'] = 'display_data';\n",
       "        await google.colab.output.renderOutput(dataTable, element);\n",
       "        const docLink = document.createElement('div');\n",
       "        docLink.innerHTML = docLinkHtml;\n",
       "        element.appendChild(docLink);\n",
       "      }\n",
       "    </script>\n",
       "  </div>\n",
       "\n",
       "\n",
       "    </div>\n",
       "  </div>\n"
      ],
      "text/plain": [
       "   channels  height  width  count\n",
       "0         3      64     64   8189"
      ]
     },
     "metadata": {},
     "output_type": "display_data"
    },
    {
     "name": "stdout",
     "output_type": "stream",
     "text": [
      "Flowers102 min height 64\n",
      "Flowers102 min width 64\n"
     ]
    }
   ],
   "source": [
    " # Show sizes of transformed images\n",
    "def analyze_transformed(dataset, text):\n",
    "\tanalyze_size(dataset, text, [\"channels\", \"height\", \"width\"])\n",
    "\timages = np.array([np.array(img) for img in dataset])\n",
    "\treturn images\n",
    "\n",
    "flower_tensors = analyze_transformed(flowers_dm.dataset, flowers_dm.name)\n",
    "if is_celeba_on:\n",
    "\tceleba_tensors = analyze_transformed(celeba_dm.dataset, celeba_dm.name)"
   ]
  },
  {
   "cell_type": "code",
   "execution_count": 14,
   "metadata": {
    "colab": {
     "base_uri": "https://localhost:8080/",
     "height": 449
    },
    "id": "2IGJLvNjnpaA",
    "outputId": "13c85fb2-807c-4758-b2fb-8c458cf442f0"
   },
   "outputs": [
    {
     "data": {
      "image/png": "[encoded data removed]",
      "text/plain": [
       "<Figure size 640x480 with 1 Axes>"
      ]
     },
     "metadata": {},
     "output_type": "display_data"
    },
    {
     "data": {
      "text/plain": [
       "<Figure size 640x480 with 0 Axes>"
      ]
     },
     "metadata": {},
     "output_type": "display_data"
    }
   ],
   "source": [
    "# Transformed image visualization\n",
    "plt.imshow(flowers_dm.reverse_transform(flowers_dm.dataset[0]))\n",
    "plt.figure()\n",
    "if is_celeba_on:\n",
    "\tplt.imshow(celeba_dm.reverse_transform(torch.from_numpy(celeba_tensors[0])))"
   ]
  },
  {
   "cell_type": "markdown",
   "metadata": {
    "id": "e0TIoGF7nl0d"
   },
   "source": [
    "## Data analysis"
   ]
  },
  {
   "cell_type": "code",
   "execution_count": 15,
   "metadata": {
    "colab": {
     "base_uri": "https://localhost:8080/",
     "height": 489
    },
    "id": "WXzkDcmwzH4c",
    "outputId": "56881cd8-1836-475f-b448-9033590a1142"
   },
   "outputs": [
    {
     "data": {
      "image/png": "[encoded data removed]",
      "text/plain": [
       "<Figure size 640x480 with 1 Axes>"
      ]
     },
     "metadata": {},
     "output_type": "display_data"
    },
    {
     "data": {
      "text/plain": [
       "<Figure size 640x480 with 0 Axes>"
      ]
     },
     "metadata": {},
     "output_type": "display_data"
    }
   ],
   "source": [
    "# Distribution of (normalized) pixels\n",
    "def img_histogram(data):\n",
    "\tfor i, color in enumerate([\"red\", \"green\", \"blue\"]):\n",
    "\t\tplt.hist(data[:, i, :, :].flatten(), bins=256, range=(-1, 1), color=color, histtype=u'step', density=True)\n",
    "\tplt.title('Density of RGB values')\n",
    "\tplt.xlabel('Color Intensity.  [-1,1]')\n",
    "\tplt.ylabel('Frequency')\n",
    "\tplt.grid(axis='y', alpha=0.5)\n",
    "\tplt.show()\n",
    "\n",
    "img_histogram(flower_tensors)\n",
    "plt.figure()\n",
    "if is_celeba_on:\n",
    "\timg_histogram(celeba_tensors)"
   ]
  },
  {
   "cell_type": "code",
   "execution_count": 16,
   "metadata": {
    "colab": {
     "base_uri": "https://localhost:8080/"
    },
    "id": "GV630HtfzH4c",
    "outputId": "a0f44d18-19f2-4aa0-8d03-2f1383e02b4e"
   },
   "outputs": [
    {
     "name": "stdout",
     "output_type": "stream",
     "text": [
      "(6551, 3, 64, 64)\n",
      "(819, 3, 64, 64)\n",
      "(819, 3, 64, 64)\n"
     ]
    }
   ],
   "source": [
    "# split tensor data to train, test, val (only for plot)\n",
    "def split(dataset):\n",
    "\ttrain, test = train_test_split(dataset, test_size=test_val_size, random_state=42)\n",
    "\ttest, val = train_test_split(test, test_size=test_size, random_state=42)\n",
    "\tprint(train.shape)\n",
    "\tprint(test.shape)\n",
    "\tprint(val.shape)\n",
    "\treturn train, test, val\n",
    "\n",
    "flower_train, flower_test, flower_val = split(flower_tensors)\n",
    "\n",
    "if is_celeba_on:\n",
    "\tceleba_train, celeba_test, celeba_val = split(celeba_tensors)"
   ]
  },
  {
   "cell_type": "code",
   "execution_count": null,
   "metadata": {
    "colab": {
     "base_uri": "https://localhost:8080/",
     "height": 455
    },
    "id": "J6eCSPjzzH4c",
    "outputId": "c759195c-ae69-4004-e48f-da59a2633612"
   },
   "outputs": [
    {
     "data": {
      "image/png": "[encoded data removed]",
      "text/plain": [
       "<Figure size 1500x500 with 3 Axes>"
      ]
     },
     "metadata": {},
     "output_type": "display_data"
    },
    {
     "data": {
      "text/plain": [
       "<Figure size 640x480 with 0 Axes>"
      ]
     },
     "metadata": {},
     "output_type": "display_data"
    }
   ],
   "source": [
    "# Check if distribution is similar between train, test, val\n",
    "def split_histogram(train, test, val):\n",
    "\tfig, axs = plt.subplots(1, 3, figsize=(15, 5))\n",
    "\tfor idx, dataset in enumerate([train, test, val]):\n",
    "\t\tfor i, color in enumerate([\"red\", \"green\", \"blue\"]):\n",
    "\t\t\taxs[idx].hist(dataset[:, i, :, :].flatten(), bins=256, range=(-1, 1), color=color, histtype=u'step', density=True)\n",
    "\t\taxs[idx].set_title('Density of RGB values') # can't use existing function because it's not .title 🙃\n",
    "\t\taxs[idx].set_xlabel('Color Intensity.  [-1,1]') # ...\n",
    "\t\taxs[idx].set_ylabel('Frequency') # ...\n",
    "\t\taxs[idx].grid(axis='y', alpha=0.5)\n",
    "\tplt.show()\n",
    "\n",
    "split_histogram(flower_train, flower_test, flower_val)\n",
    "plt.figure()\n",
    "if is_celeba_on:\n",
    "\tsplit_histogram(celeba_train, celeba_test, celeba_val)"
   ]
  },
  {
   "cell_type": "code",
   "execution_count": null,
   "metadata": {
    "id": "tcwE4i2ct5Wd"
   },
   "outputs": [],
   "source": [
    "del flower_tensors\n",
    "del flower_train, flower_test, flower_val\n",
    "del flowers_dm\n",
    "if is_celeba_on:\n",
    "\tdel celeba_tensors\n",
    "\tdel celeba_train, celeba_test, celeba_val\n",
    "\tdel celeba_dm"
   ]
  },
  {
   "cell_type": "markdown",
   "metadata": {},
   "source": [
    "# Baseline\n",
    "Implement and train VAE with hyper optimization"
   ]
  },
  {
   "cell_type": "code",
   "execution_count": 34,
   "metadata": {},
   "outputs": [
    {
     "name": "stderr",
     "output_type": "stream",
     "text": [
      "Using 16bit Automatic Mixed Precision (AMP)\n",
      "GPU available: True (cuda), used: True\n",
      "TPU available: False, using: 0 TPU cores\n",
      "HPU available: False, using: 0 HPUs\n",
      "LOCAL_RANK: 0 - CUDA_VISIBLE_DEVICES: [0]\n",
      "\n",
      "  | Name    | Type       | Params | Mode \n",
      "-----------------------------------------------\n",
      "0 | enc     | Sequential | 18.0 K | train\n",
      "1 | mu      | Linear     | 16.4 K | train\n",
      "2 | log_var | Linear     | 16.4 K | train\n",
      "3 | dec     | Sequential | 42.5 K | train\n",
      "-----------------------------------------------\n",
      "93.3 K    Trainable params\n",
      "0         Non-trainable params\n",
      "93.3 K    Total params\n",
      "0.373     Total estimated model params size (MB)\n",
      "16        Modules in train mode\n",
      "0         Modules in eval mode\n"
     ]
    },
    {
     "data": {
      "application/vnd.jupyter.widget-view+json": {
       "model_id": "b309c3a96d434286ac31a9da541cbf98",
       "version_major": 2,
       "version_minor": 0
      },
      "text/plain": [
       "Sanity Checking: |          | 0/? [00:00<?, ?it/s]"
      ]
     },
     "metadata": {},
     "output_type": "display_data"
    },
    {
     "data": {
      "application/vnd.jupyter.widget-view+json": {
       "model_id": "c53754095b2f463796161404c7419d90",
       "version_major": 2,
       "version_minor": 0
      },
      "text/plain": [
       "Training: |          | 0/? [00:00<?, ?it/s]"
      ]
     },
     "metadata": {},
     "output_type": "display_data"
    },
    {
     "data": {
      "application/vnd.jupyter.widget-view+json": {
       "model_id": "7197ef8274554b91a6e566f5504c097a",
       "version_major": 2,
       "version_minor": 0
      },
      "text/plain": [
       "Validation: |          | 0/? [00:00<?, ?it/s]"
      ]
     },
     "metadata": {},
     "output_type": "display_data"
    },
    {
     "data": {
      "application/vnd.jupyter.widget-view+json": {
       "model_id": "c11088aea3eb4275b84993109d881209",
       "version_major": 2,
       "version_minor": 0
      },
      "text/plain": [
       "Validation: |          | 0/? [00:00<?, ?it/s]"
      ]
     },
     "metadata": {},
     "output_type": "display_data"
    },
    {
     "data": {
      "application/vnd.jupyter.widget-view+json": {
       "model_id": "663917c76c5c469598202e72e74f83ad",
       "version_major": 2,
       "version_minor": 0
      },
      "text/plain": [
       "Validation: |          | 0/? [00:00<?, ?it/s]"
      ]
     },
     "metadata": {},
     "output_type": "display_data"
    },
    {
     "data": {
      "application/vnd.jupyter.widget-view+json": {
       "model_id": "064ef19b93604fdd80697b6982cdfe9a",
       "version_major": 2,
       "version_minor": 0
      },
      "text/plain": [
       "Validation: |          | 0/? [00:00<?, ?it/s]"
      ]
     },
     "metadata": {},
     "output_type": "display_data"
    },
    {
     "data": {
      "application/vnd.jupyter.widget-view+json": {
       "model_id": "28c43d6c05b34e7f87e5736ece00c9d7",
       "version_major": 2,
       "version_minor": 0
      },
      "text/plain": [
       "Validation: |          | 0/? [00:00<?, ?it/s]"
      ]
     },
     "metadata": {},
     "output_type": "display_data"
    },
    {
     "data": {
      "application/vnd.jupyter.widget-view+json": {
       "model_id": "0388f4a31cca4c5ba7a26e20230d3da8",
       "version_major": 2,
       "version_minor": 0
      },
      "text/plain": [
       "Validation: |          | 0/? [00:00<?, ?it/s]"
      ]
     },
     "metadata": {},
     "output_type": "display_data"
    },
    {
     "data": {
      "application/vnd.jupyter.widget-view+json": {
       "model_id": "6e8ba8bfdf244c218f34275a9eb3d535",
       "version_major": 2,
       "version_minor": 0
      },
      "text/plain": [
       "Validation: |          | 0/? [00:00<?, ?it/s]"
      ]
     },
     "metadata": {},
     "output_type": "display_data"
    },
    {
     "data": {
      "application/vnd.jupyter.widget-view+json": {
       "model_id": "e5b37ca3689241f6a1dc92b244d29d6a",
       "version_major": 2,
       "version_minor": 0
      },
      "text/plain": [
       "Validation: |          | 0/? [00:00<?, ?it/s]"
      ]
     },
     "metadata": {},
     "output_type": "display_data"
    },
    {
     "data": {
      "application/vnd.jupyter.widget-view+json": {
       "model_id": "af871764216646a0a67647aa79e1e1a6",
       "version_major": 2,
       "version_minor": 0
      },
      "text/plain": [
       "Validation: |          | 0/? [00:00<?, ?it/s]"
      ]
     },
     "metadata": {},
     "output_type": "display_data"
    },
    {
     "data": {
      "application/vnd.jupyter.widget-view+json": {
       "model_id": "c486dc89d82f4ab18688d85fead79146",
       "version_major": 2,
       "version_minor": 0
      },
      "text/plain": [
       "Validation: |          | 0/? [00:00<?, ?it/s]"
      ]
     },
     "metadata": {},
     "output_type": "display_data"
    },
    {
     "data": {
      "application/vnd.jupyter.widget-view+json": {
       "model_id": "48b184d7543343c0be022f5fab1f2ebc",
       "version_major": 2,
       "version_minor": 0
      },
      "text/plain": [
       "Validation: |          | 0/? [00:00<?, ?it/s]"
      ]
     },
     "metadata": {},
     "output_type": "display_data"
    },
    {
     "data": {
      "application/vnd.jupyter.widget-view+json": {
       "model_id": "e4eebf1a96c842b2ae026a135474ea41",
       "version_major": 2,
       "version_minor": 0
      },
      "text/plain": [
       "Validation: |          | 0/? [00:00<?, ?it/s]"
      ]
     },
     "metadata": {},
     "output_type": "display_data"
    },
    {
     "data": {
      "application/vnd.jupyter.widget-view+json": {
       "model_id": "7e79301bbb454dbe94115c9ab52afc25",
       "version_major": 2,
       "version_minor": 0
      },
      "text/plain": [
       "Validation: |          | 0/? [00:00<?, ?it/s]"
      ]
     },
     "metadata": {},
     "output_type": "display_data"
    },
    {
     "data": {
      "application/vnd.jupyter.widget-view+json": {
       "model_id": "b9ae938814b04af4a20e272ab8b31f13",
       "version_major": 2,
       "version_minor": 0
      },
      "text/plain": [
       "Validation: |          | 0/? [00:00<?, ?it/s]"
      ]
     },
     "metadata": {},
     "output_type": "display_data"
    },
    {
     "data": {
      "application/vnd.jupyter.widget-view+json": {
       "model_id": "5e9112fa3bb6465caa42afd6dbe75f24",
       "version_major": 2,
       "version_minor": 0
      },
      "text/plain": [
       "Validation: |          | 0/? [00:00<?, ?it/s]"
      ]
     },
     "metadata": {},
     "output_type": "display_data"
    },
    {
     "data": {
      "application/vnd.jupyter.widget-view+json": {
       "model_id": "dc126520a90b4971bfacd8c7ade8be7f",
       "version_major": 2,
       "version_minor": 0
      },
      "text/plain": [
       "Validation: |          | 0/? [00:00<?, ?it/s]"
      ]
     },
     "metadata": {},
     "output_type": "display_data"
    },
    {
     "data": {
      "application/vnd.jupyter.widget-view+json": {
       "model_id": "a415eb423a78417e804bee59dd366726",
       "version_major": 2,
       "version_minor": 0
      },
      "text/plain": [
       "Validation: |          | 0/? [00:00<?, ?it/s]"
      ]
     },
     "metadata": {},
     "output_type": "display_data"
    },
    {
     "data": {
      "application/vnd.jupyter.widget-view+json": {
       "model_id": "533f907dae894fc3a2dc1a8a209989fb",
       "version_major": 2,
       "version_minor": 0
      },
      "text/plain": [
       "Validation: |          | 0/? [00:00<?, ?it/s]"
      ]
     },
     "metadata": {},
     "output_type": "display_data"
    },
    {
     "data": {
      "application/vnd.jupyter.widget-view+json": {
       "model_id": "322d7f10406840edbde8d7e828d88f68",
       "version_major": 2,
       "version_minor": 0
      },
      "text/plain": [
       "Validation: |          | 0/? [00:00<?, ?it/s]"
      ]
     },
     "metadata": {},
     "output_type": "display_data"
    },
    {
     "data": {
      "application/vnd.jupyter.widget-view+json": {
       "model_id": "5b7fa45e51004a4486a4f26b5c869ae1",
       "version_major": 2,
       "version_minor": 0
      },
      "text/plain": [
       "Validation: |          | 0/? [00:00<?, ?it/s]"
      ]
     },
     "metadata": {},
     "output_type": "display_data"
    },
    {
     "data": {
      "application/vnd.jupyter.widget-view+json": {
       "model_id": "8d33f706a4be4f74a363b2b1c732f94a",
       "version_major": 2,
       "version_minor": 0
      },
      "text/plain": [
       "Validation: |          | 0/? [00:00<?, ?it/s]"
      ]
     },
     "metadata": {},
     "output_type": "display_data"
    },
    {
     "data": {
      "application/vnd.jupyter.widget-view+json": {
       "model_id": "0066088a2ad7403886912da487a50ec9",
       "version_major": 2,
       "version_minor": 0
      },
      "text/plain": [
       "Validation: |          | 0/? [00:00<?, ?it/s]"
      ]
     },
     "metadata": {},
     "output_type": "display_data"
    },
    {
     "data": {
      "application/vnd.jupyter.widget-view+json": {
       "model_id": "6689d97d4b59477f9fe8341402bef447",
       "version_major": 2,
       "version_minor": 0
      },
      "text/plain": [
       "Validation: |          | 0/? [00:00<?, ?it/s]"
      ]
     },
     "metadata": {},
     "output_type": "display_data"
    },
    {
     "data": {
      "application/vnd.jupyter.widget-view+json": {
       "model_id": "632a7b4788e34b0eaa555df5f4e0b224",
       "version_major": 2,
       "version_minor": 0
      },
      "text/plain": [
       "Validation: |          | 0/? [00:00<?, ?it/s]"
      ]
     },
     "metadata": {},
     "output_type": "display_data"
    },
    {
     "data": {
      "application/vnd.jupyter.widget-view+json": {
       "model_id": "da77084ea8aa4e68bd57c2384df7e0de",
       "version_major": 2,
       "version_minor": 0
      },
      "text/plain": [
       "Validation: |          | 0/? [00:00<?, ?it/s]"
      ]
     },
     "metadata": {},
     "output_type": "display_data"
    },
    {
     "data": {
      "application/vnd.jupyter.widget-view+json": {
       "model_id": "9ca3d14160d84af291a4fcafcbd3ef9b",
       "version_major": 2,
       "version_minor": 0
      },
      "text/plain": [
       "Validation: |          | 0/? [00:00<?, ?it/s]"
      ]
     },
     "metadata": {},
     "output_type": "display_data"
    },
    {
     "data": {
      "application/vnd.jupyter.widget-view+json": {
       "model_id": "407ffb40dcee4098832079bb9fb4938c",
       "version_major": 2,
       "version_minor": 0
      },
      "text/plain": [
       "Validation: |          | 0/? [00:00<?, ?it/s]"
      ]
     },
     "metadata": {},
     "output_type": "display_data"
    },
    {
     "data": {
      "application/vnd.jupyter.widget-view+json": {
       "model_id": "689195c3e89249abb5d270ce44d63f6d",
       "version_major": 2,
       "version_minor": 0
      },
      "text/plain": [
       "Validation: |          | 0/? [00:00<?, ?it/s]"
      ]
     },
     "metadata": {},
     "output_type": "display_data"
    },
    {
     "data": {
      "application/vnd.jupyter.widget-view+json": {
       "model_id": "ae9388d7bea941d7a37c81845c2ea3a6",
       "version_major": 2,
       "version_minor": 0
      },
      "text/plain": [
       "Validation: |          | 0/? [00:00<?, ?it/s]"
      ]
     },
     "metadata": {},
     "output_type": "display_data"
    },
    {
     "data": {
      "application/vnd.jupyter.widget-view+json": {
       "model_id": "e5c2a034b2194df9a7487fb84ff50e95",
       "version_major": 2,
       "version_minor": 0
      },
      "text/plain": [
       "Validation: |          | 0/? [00:00<?, ?it/s]"
      ]
     },
     "metadata": {},
     "output_type": "display_data"
    },
    {
     "data": {
      "application/vnd.jupyter.widget-view+json": {
       "model_id": "a339aed3f5dc42429e12bf093e01d898",
       "version_major": 2,
       "version_minor": 0
      },
      "text/plain": [
       "Validation: |          | 0/? [00:00<?, ?it/s]"
      ]
     },
     "metadata": {},
     "output_type": "display_data"
    },
    {
     "data": {
      "application/vnd.jupyter.widget-view+json": {
       "model_id": "115fd9d867424e009639bbc31f70ab57",
       "version_major": 2,
       "version_minor": 0
      },
      "text/plain": [
       "Validation: |          | 0/? [00:00<?, ?it/s]"
      ]
     },
     "metadata": {},
     "output_type": "display_data"
    },
    {
     "data": {
      "application/vnd.jupyter.widget-view+json": {
       "model_id": "c8c8e25887ed4913a67e7c516b79176f",
       "version_major": 2,
       "version_minor": 0
      },
      "text/plain": [
       "Validation: |          | 0/? [00:00<?, ?it/s]"
      ]
     },
     "metadata": {},
     "output_type": "display_data"
    },
    {
     "data": {
      "application/vnd.jupyter.widget-view+json": {
       "model_id": "7e4bbb1eb4084f709de32d61c01cfa38",
       "version_major": 2,
       "version_minor": 0
      },
      "text/plain": [
       "Validation: |          | 0/? [00:00<?, ?it/s]"
      ]
     },
     "metadata": {},
     "output_type": "display_data"
    },
    {
     "data": {
      "application/vnd.jupyter.widget-view+json": {
       "model_id": "b15cecd3d80e47eb9c30c7c159bdb15c",
       "version_major": 2,
       "version_minor": 0
      },
      "text/plain": [
       "Validation: |          | 0/? [00:00<?, ?it/s]"
      ]
     },
     "metadata": {},
     "output_type": "display_data"
    },
    {
     "data": {
      "application/vnd.jupyter.widget-view+json": {
       "model_id": "d71c97bcbbe0433083337c92ba41e832",
       "version_major": 2,
       "version_minor": 0
      },
      "text/plain": [
       "Validation: |          | 0/? [00:00<?, ?it/s]"
      ]
     },
     "metadata": {},
     "output_type": "display_data"
    },
    {
     "data": {
      "application/vnd.jupyter.widget-view+json": {
       "model_id": "d44ed009a86648eab582c4b0d8b0a63b",
       "version_major": 2,
       "version_minor": 0
      },
      "text/plain": [
       "Validation: |          | 0/? [00:00<?, ?it/s]"
      ]
     },
     "metadata": {},
     "output_type": "display_data"
    },
    {
     "data": {
      "application/vnd.jupyter.widget-view+json": {
       "model_id": "c9fa2eb95fd049d2934cb47c3964a435",
       "version_major": 2,
       "version_minor": 0
      },
      "text/plain": [
       "Validation: |          | 0/? [00:00<?, ?it/s]"
      ]
     },
     "metadata": {},
     "output_type": "display_data"
    },
    {
     "data": {
      "application/vnd.jupyter.widget-view+json": {
       "model_id": "2ceea5b163454dd2bc080fb489ea73b0",
       "version_major": 2,
       "version_minor": 0
      },
      "text/plain": [
       "Validation: |          | 0/? [00:00<?, ?it/s]"
      ]
     },
     "metadata": {},
     "output_type": "display_data"
    },
    {
     "data": {
      "application/vnd.jupyter.widget-view+json": {
       "model_id": "e63142f1654a44f68fc0d12797c909c8",
       "version_major": 2,
       "version_minor": 0
      },
      "text/plain": [
       "Validation: |          | 0/? [00:00<?, ?it/s]"
      ]
     },
     "metadata": {},
     "output_type": "display_data"
    },
    {
     "data": {
      "application/vnd.jupyter.widget-view+json": {
       "model_id": "ba31ce97c8e943dda8a96cf6c701e5d5",
       "version_major": 2,
       "version_minor": 0
      },
      "text/plain": [
       "Validation: |          | 0/? [00:00<?, ?it/s]"
      ]
     },
     "metadata": {},
     "output_type": "display_data"
    },
    {
     "data": {
      "application/vnd.jupyter.widget-view+json": {
       "model_id": "63aa4c9ee6074b57bffb6e47a9b68c03",
       "version_major": 2,
       "version_minor": 0
      },
      "text/plain": [
       "Validation: |          | 0/? [00:00<?, ?it/s]"
      ]
     },
     "metadata": {},
     "output_type": "display_data"
    },
    {
     "data": {
      "application/vnd.jupyter.widget-view+json": {
       "model_id": "2d6621a582c04d6cbf412c1ce4c3c8f2",
       "version_major": 2,
       "version_minor": 0
      },
      "text/plain": [
       "Validation: |          | 0/? [00:00<?, ?it/s]"
      ]
     },
     "metadata": {},
     "output_type": "display_data"
    },
    {
     "data": {
      "application/vnd.jupyter.widget-view+json": {
       "model_id": "70fb5f446dc04a1895f03b09e6ad8be3",
       "version_major": 2,
       "version_minor": 0
      },
      "text/plain": [
       "Validation: |          | 0/? [00:00<?, ?it/s]"
      ]
     },
     "metadata": {},
     "output_type": "display_data"
    },
    {
     "data": {
      "application/vnd.jupyter.widget-view+json": {
       "model_id": "0bb6f9d8eeef4eeb884174adae2640fe",
       "version_major": 2,
       "version_minor": 0
      },
      "text/plain": [
       "Validation: |          | 0/? [00:00<?, ?it/s]"
      ]
     },
     "metadata": {},
     "output_type": "display_data"
    },
    {
     "data": {
      "application/vnd.jupyter.widget-view+json": {
       "model_id": "096e2e61d09e442d8dc5b0fcf4b71a5a",
       "version_major": 2,
       "version_minor": 0
      },
      "text/plain": [
       "Validation: |          | 0/? [00:00<?, ?it/s]"
      ]
     },
     "metadata": {},
     "output_type": "display_data"
    },
    {
     "data": {
      "application/vnd.jupyter.widget-view+json": {
       "model_id": "0eb270d9e8e94cdfaf024b14f3ced7cb",
       "version_major": 2,
       "version_minor": 0
      },
      "text/plain": [
       "Validation: |          | 0/? [00:00<?, ?it/s]"
      ]
     },
     "metadata": {},
     "output_type": "display_data"
    },
    {
     "data": {
      "application/vnd.jupyter.widget-view+json": {
       "model_id": "2ae16ee647fc45afa6454bad6fab5a1a",
       "version_major": 2,
       "version_minor": 0
      },
      "text/plain": [
       "Validation: |          | 0/? [00:00<?, ?it/s]"
      ]
     },
     "metadata": {},
     "output_type": "display_data"
    },
    {
     "data": {
      "application/vnd.jupyter.widget-view+json": {
       "model_id": "aa47506f118c43e78597c6a74e169147",
       "version_major": 2,
       "version_minor": 0
      },
      "text/plain": [
       "Validation: |          | 0/? [00:00<?, ?it/s]"
      ]
     },
     "metadata": {},
     "output_type": "display_data"
    },
    {
     "data": {
      "application/vnd.jupyter.widget-view+json": {
       "model_id": "ac8c22542a6a4d9b8022991034b20de9",
       "version_major": 2,
       "version_minor": 0
      },
      "text/plain": [
       "Validation: |          | 0/? [00:00<?, ?it/s]"
      ]
     },
     "metadata": {},
     "output_type": "display_data"
    },
    {
     "data": {
      "application/vnd.jupyter.widget-view+json": {
       "model_id": "a6464491234e45528ed982db455c6a48",
       "version_major": 2,
       "version_minor": 0
      },
      "text/plain": [
       "Validation: |          | 0/? [00:00<?, ?it/s]"
      ]
     },
     "metadata": {},
     "output_type": "display_data"
    },
    {
     "data": {
      "application/vnd.jupyter.widget-view+json": {
       "model_id": "555f74374b734d3293cad31e6c9ec02e",
       "version_major": 2,
       "version_minor": 0
      },
      "text/plain": [
       "Validation: |          | 0/? [00:00<?, ?it/s]"
      ]
     },
     "metadata": {},
     "output_type": "display_data"
    },
    {
     "data": {
      "application/vnd.jupyter.widget-view+json": {
       "model_id": "0b46c41e2ce6483998b53dd0a1790c79",
       "version_major": 2,
       "version_minor": 0
      },
      "text/plain": [
       "Validation: |          | 0/? [00:00<?, ?it/s]"
      ]
     },
     "metadata": {},
     "output_type": "display_data"
    },
    {
     "data": {
      "application/vnd.jupyter.widget-view+json": {
       "model_id": "bbe68ab6c9d54f1a8da76814e019717b",
       "version_major": 2,
       "version_minor": 0
      },
      "text/plain": [
       "Validation: |          | 0/? [00:00<?, ?it/s]"
      ]
     },
     "metadata": {},
     "output_type": "display_data"
    },
    {
     "data": {
      "application/vnd.jupyter.widget-view+json": {
       "model_id": "6c3f65d1ca1a4a8f8150e2a2d5407ae2",
       "version_major": 2,
       "version_minor": 0
      },
      "text/plain": [
       "Validation: |          | 0/? [00:00<?, ?it/s]"
      ]
     },
     "metadata": {},
     "output_type": "display_data"
    },
    {
     "data": {
      "application/vnd.jupyter.widget-view+json": {
       "model_id": "2c40adb9cf234d1ba0be4b0a6a490e79",
       "version_major": 2,
       "version_minor": 0
      },
      "text/plain": [
       "Validation: |          | 0/? [00:00<?, ?it/s]"
      ]
     },
     "metadata": {},
     "output_type": "display_data"
    },
    {
     "data": {
      "application/vnd.jupyter.widget-view+json": {
       "model_id": "2e8dc48f906547d1867b403521564d1b",
       "version_major": 2,
       "version_minor": 0
      },
      "text/plain": [
       "Validation: |          | 0/? [00:00<?, ?it/s]"
      ]
     },
     "metadata": {},
     "output_type": "display_data"
    },
    {
     "data": {
      "application/vnd.jupyter.widget-view+json": {
       "model_id": "aaf2691e4fd543a3b911a7ed0004eef3",
       "version_major": 2,
       "version_minor": 0
      },
      "text/plain": [
       "Validation: |          | 0/? [00:00<?, ?it/s]"
      ]
     },
     "metadata": {},
     "output_type": "display_data"
    },
    {
     "data": {
      "application/vnd.jupyter.widget-view+json": {
       "model_id": "fd23447cd58145b79edb0f76525b9aa1",
       "version_major": 2,
       "version_minor": 0
      },
      "text/plain": [
       "Validation: |          | 0/? [00:00<?, ?it/s]"
      ]
     },
     "metadata": {},
     "output_type": "display_data"
    },
    {
     "data": {
      "application/vnd.jupyter.widget-view+json": {
       "model_id": "b3deebfa275840b793f8bfb471a97c1e",
       "version_major": 2,
       "version_minor": 0
      },
      "text/plain": [
       "Validation: |          | 0/? [00:00<?, ?it/s]"
      ]
     },
     "metadata": {},
     "output_type": "display_data"
    },
    {
     "data": {
      "application/vnd.jupyter.widget-view+json": {
       "model_id": "10381222e4c441a1bea0f5383371e722",
       "version_major": 2,
       "version_minor": 0
      },
      "text/plain": [
       "Validation: |          | 0/? [00:00<?, ?it/s]"
      ]
     },
     "metadata": {},
     "output_type": "display_data"
    },
    {
     "data": {
      "application/vnd.jupyter.widget-view+json": {
       "model_id": "9d2ae07799ba43048541abe5a81ac75f",
       "version_major": 2,
       "version_minor": 0
      },
      "text/plain": [
       "Validation: |          | 0/? [00:00<?, ?it/s]"
      ]
     },
     "metadata": {},
     "output_type": "display_data"
    },
    {
     "data": {
      "application/vnd.jupyter.widget-view+json": {
       "model_id": "fb1e56900ee44688bc9b34690ab034c2",
       "version_major": 2,
       "version_minor": 0
      },
      "text/plain": [
       "Validation: |          | 0/? [00:00<?, ?it/s]"
      ]
     },
     "metadata": {},
     "output_type": "display_data"
    },
    {
     "data": {
      "application/vnd.jupyter.widget-view+json": {
       "model_id": "75843ca3ae274b9aa10e3e3e1c4b1ca4",
       "version_major": 2,
       "version_minor": 0
      },
      "text/plain": [
       "Validation: |          | 0/? [00:00<?, ?it/s]"
      ]
     },
     "metadata": {},
     "output_type": "display_data"
    },
    {
     "data": {
      "application/vnd.jupyter.widget-view+json": {
       "model_id": "030b0d0f048d4dabbe7f28cb3f255151",
       "version_major": 2,
       "version_minor": 0
      },
      "text/plain": [
       "Validation: |          | 0/? [00:00<?, ?it/s]"
      ]
     },
     "metadata": {},
     "output_type": "display_data"
    },
    {
     "data": {
      "application/vnd.jupyter.widget-view+json": {
       "model_id": "ce78569a74b642338450c64c096442d3",
       "version_major": 2,
       "version_minor": 0
      },
      "text/plain": [
       "Validation: |          | 0/? [00:00<?, ?it/s]"
      ]
     },
     "metadata": {},
     "output_type": "display_data"
    },
    {
     "data": {
      "application/vnd.jupyter.widget-view+json": {
       "model_id": "a8729aae92a34cdfbf93262221ae1e10",
       "version_major": 2,
       "version_minor": 0
      },
      "text/plain": [
       "Validation: |          | 0/? [00:00<?, ?it/s]"
      ]
     },
     "metadata": {},
     "output_type": "display_data"
    },
    {
     "data": {
      "application/vnd.jupyter.widget-view+json": {
       "model_id": "1a01e8b7a2434205bc9578775879ee16",
       "version_major": 2,
       "version_minor": 0
      },
      "text/plain": [
       "Validation: |          | 0/? [00:00<?, ?it/s]"
      ]
     },
     "metadata": {},
     "output_type": "display_data"
    },
    {
     "data": {
      "application/vnd.jupyter.widget-view+json": {
       "model_id": "44c2ab429aa540b396a4086e3078f8bc",
       "version_major": 2,
       "version_minor": 0
      },
      "text/plain": [
       "Validation: |          | 0/? [00:00<?, ?it/s]"
      ]
     },
     "metadata": {},
     "output_type": "display_data"
    },
    {
     "data": {
      "application/vnd.jupyter.widget-view+json": {
       "model_id": "9d451d72a238404ab6e7b7a3109c3c77",
       "version_major": 2,
       "version_minor": 0
      },
      "text/plain": [
       "Validation: |          | 0/? [00:00<?, ?it/s]"
      ]
     },
     "metadata": {},
     "output_type": "display_data"
    },
    {
     "data": {
      "application/vnd.jupyter.widget-view+json": {
       "model_id": "0c914cec031c4bc09b6638142baeaf28",
       "version_major": 2,
       "version_minor": 0
      },
      "text/plain": [
       "Validation: |          | 0/? [00:00<?, ?it/s]"
      ]
     },
     "metadata": {},
     "output_type": "display_data"
    },
    {
     "data": {
      "application/vnd.jupyter.widget-view+json": {
       "model_id": "fb30ec3deddc4a269ef2a08d1172045c",
       "version_major": 2,
       "version_minor": 0
      },
      "text/plain": [
       "Validation: |          | 0/? [00:00<?, ?it/s]"
      ]
     },
     "metadata": {},
     "output_type": "display_data"
    },
    {
     "data": {
      "application/vnd.jupyter.widget-view+json": {
       "model_id": "8acdbc1949aa45689c429fe151091400",
       "version_major": 2,
       "version_minor": 0
      },
      "text/plain": [
       "Validation: |          | 0/? [00:00<?, ?it/s]"
      ]
     },
     "metadata": {},
     "output_type": "display_data"
    },
    {
     "data": {
      "application/vnd.jupyter.widget-view+json": {
       "model_id": "22c8a518101f4d2fa7c2a0c32513e543",
       "version_major": 2,
       "version_minor": 0
      },
      "text/plain": [
       "Validation: |          | 0/? [00:00<?, ?it/s]"
      ]
     },
     "metadata": {},
     "output_type": "display_data"
    },
    {
     "data": {
      "application/vnd.jupyter.widget-view+json": {
       "model_id": "f729ff8a65da4cb1a2684c87729900e5",
       "version_major": 2,
       "version_minor": 0
      },
      "text/plain": [
       "Validation: |          | 0/? [00:00<?, ?it/s]"
      ]
     },
     "metadata": {},
     "output_type": "display_data"
    },
    {
     "data": {
      "application/vnd.jupyter.widget-view+json": {
       "model_id": "9ecef080efa0499180cc877946a3109c",
       "version_major": 2,
       "version_minor": 0
      },
      "text/plain": [
       "Validation: |          | 0/? [00:00<?, ?it/s]"
      ]
     },
     "metadata": {},
     "output_type": "display_data"
    },
    {
     "data": {
      "application/vnd.jupyter.widget-view+json": {
       "model_id": "594a467b53894579a8eae9254b896a4d",
       "version_major": 2,
       "version_minor": 0
      },
      "text/plain": [
       "Validation: |          | 0/? [00:00<?, ?it/s]"
      ]
     },
     "metadata": {},
     "output_type": "display_data"
    },
    {
     "data": {
      "application/vnd.jupyter.widget-view+json": {
       "model_id": "96b24dc992e34dfcada817cccfb8c203",
       "version_major": 2,
       "version_minor": 0
      },
      "text/plain": [
       "Validation: |          | 0/? [00:00<?, ?it/s]"
      ]
     },
     "metadata": {},
     "output_type": "display_data"
    },
    {
     "data": {
      "application/vnd.jupyter.widget-view+json": {
       "model_id": "04bd78ce40b14fa091516af9660841dc",
       "version_major": 2,
       "version_minor": 0
      },
      "text/plain": [
       "Validation: |          | 0/? [00:00<?, ?it/s]"
      ]
     },
     "metadata": {},
     "output_type": "display_data"
    },
    {
     "data": {
      "application/vnd.jupyter.widget-view+json": {
       "model_id": "31d59e45e7a84b98bf4034001b1d019e",
       "version_major": 2,
       "version_minor": 0
      },
      "text/plain": [
       "Validation: |          | 0/? [00:00<?, ?it/s]"
      ]
     },
     "metadata": {},
     "output_type": "display_data"
    },
    {
     "data": {
      "application/vnd.jupyter.widget-view+json": {
       "model_id": "16efa58a51ff45f48178af661c2026a1",
       "version_major": 2,
       "version_minor": 0
      },
      "text/plain": [
       "Validation: |          | 0/? [00:00<?, ?it/s]"
      ]
     },
     "metadata": {},
     "output_type": "display_data"
    },
    {
     "data": {
      "application/vnd.jupyter.widget-view+json": {
       "model_id": "364b268642c34650b5aff16352271fd3",
       "version_major": 2,
       "version_minor": 0
      },
      "text/plain": [
       "Validation: |          | 0/? [00:00<?, ?it/s]"
      ]
     },
     "metadata": {},
     "output_type": "display_data"
    },
    {
     "data": {
      "application/vnd.jupyter.widget-view+json": {
       "model_id": "19ce584b425a43c2b94ffcdcee87b9f6",
       "version_major": 2,
       "version_minor": 0
      },
      "text/plain": [
       "Validation: |          | 0/? [00:00<?, ?it/s]"
      ]
     },
     "metadata": {},
     "output_type": "display_data"
    },
    {
     "data": {
      "application/vnd.jupyter.widget-view+json": {
       "model_id": "d0fe789718dd4d5e9f9c2c26689cced3",
       "version_major": 2,
       "version_minor": 0
      },
      "text/plain": [
       "Validation: |          | 0/? [00:00<?, ?it/s]"
      ]
     },
     "metadata": {},
     "output_type": "display_data"
    },
    {
     "data": {
      "application/vnd.jupyter.widget-view+json": {
       "model_id": "7e6c0b9ba75848598d4965c47b0d29df",
       "version_major": 2,
       "version_minor": 0
      },
      "text/plain": [
       "Validation: |          | 0/? [00:00<?, ?it/s]"
      ]
     },
     "metadata": {},
     "output_type": "display_data"
    },
    {
     "data": {
      "application/vnd.jupyter.widget-view+json": {
       "model_id": "a00991373ec245bd89f6af70ab27c385",
       "version_major": 2,
       "version_minor": 0
      },
      "text/plain": [
       "Validation: |          | 0/? [00:00<?, ?it/s]"
      ]
     },
     "metadata": {},
     "output_type": "display_data"
    },
    {
     "data": {
      "application/vnd.jupyter.widget-view+json": {
       "model_id": "aea00de8f353446db7dfddac95237809",
       "version_major": 2,
       "version_minor": 0
      },
      "text/plain": [
       "Validation: |          | 0/? [00:00<?, ?it/s]"
      ]
     },
     "metadata": {},
     "output_type": "display_data"
    },
    {
     "data": {
      "application/vnd.jupyter.widget-view+json": {
       "model_id": "55b0e3f956cd4148bd352cf03a2afac0",
       "version_major": 2,
       "version_minor": 0
      },
      "text/plain": [
       "Validation: |          | 0/? [00:00<?, ?it/s]"
      ]
     },
     "metadata": {},
     "output_type": "display_data"
    },
    {
     "data": {
      "application/vnd.jupyter.widget-view+json": {
       "model_id": "ad161e6929854a57a9c0de945b6baab1",
       "version_major": 2,
       "version_minor": 0
      },
      "text/plain": [
       "Validation: |          | 0/? [00:00<?, ?it/s]"
      ]
     },
     "metadata": {},
     "output_type": "display_data"
    },
    {
     "data": {
      "application/vnd.jupyter.widget-view+json": {
       "model_id": "9ef7e50b71314aada66f8f5bb2e82b03",
       "version_major": 2,
       "version_minor": 0
      },
      "text/plain": [
       "Validation: |          | 0/? [00:00<?, ?it/s]"
      ]
     },
     "metadata": {},
     "output_type": "display_data"
    },
    {
     "data": {
      "application/vnd.jupyter.widget-view+json": {
       "model_id": "1e42e598143c4b7ea7953fa2a9634815",
       "version_major": 2,
       "version_minor": 0
      },
      "text/plain": [
       "Validation: |          | 0/? [00:00<?, ?it/s]"
      ]
     },
     "metadata": {},
     "output_type": "display_data"
    },
    {
     "data": {
      "application/vnd.jupyter.widget-view+json": {
       "model_id": "9bffe07ea4de46dcb479fb1c827214e1",
       "version_major": 2,
       "version_minor": 0
      },
      "text/plain": [
       "Validation: |          | 0/? [00:00<?, ?it/s]"
      ]
     },
     "metadata": {},
     "output_type": "display_data"
    },
    {
     "data": {
      "application/vnd.jupyter.widget-view+json": {
       "model_id": "2afff74b87454b618057931a95496ddf",
       "version_major": 2,
       "version_minor": 0
      },
      "text/plain": [
       "Validation: |          | 0/? [00:00<?, ?it/s]"
      ]
     },
     "metadata": {},
     "output_type": "display_data"
    },
    {
     "data": {
      "application/vnd.jupyter.widget-view+json": {
       "model_id": "dd9ac2ee25e043ef8771e1a8ba72aedd",
       "version_major": 2,
       "version_minor": 0
      },
      "text/plain": [
       "Validation: |          | 0/? [00:00<?, ?it/s]"
      ]
     },
     "metadata": {},
     "output_type": "display_data"
    },
    {
     "data": {
      "application/vnd.jupyter.widget-view+json": {
       "model_id": "f623dd74e8504ee2b909d40feb4acd61",
       "version_major": 2,
       "version_minor": 0
      },
      "text/plain": [
       "Validation: |          | 0/? [00:00<?, ?it/s]"
      ]
     },
     "metadata": {},
     "output_type": "display_data"
    },
    {
     "data": {
      "application/vnd.jupyter.widget-view+json": {
       "model_id": "4fccfbb5e73e4a5b9f1b372f9b20a0dc",
       "version_major": 2,
       "version_minor": 0
      },
      "text/plain": [
       "Validation: |          | 0/? [00:00<?, ?it/s]"
      ]
     },
     "metadata": {},
     "output_type": "display_data"
    },
    {
     "data": {
      "application/vnd.jupyter.widget-view+json": {
       "model_id": "febe5e834de64832a739f282de5f06b9",
       "version_major": 2,
       "version_minor": 0
      },
      "text/plain": [
       "Validation: |          | 0/? [00:00<?, ?it/s]"
      ]
     },
     "metadata": {},
     "output_type": "display_data"
    },
    {
     "data": {
      "application/vnd.jupyter.widget-view+json": {
       "model_id": "8402ad36c2bc4d6ba6e4bd850cc8faa4",
       "version_major": 2,
       "version_minor": 0
      },
      "text/plain": [
       "Validation: |          | 0/? [00:00<?, ?it/s]"
      ]
     },
     "metadata": {},
     "output_type": "display_data"
    },
    {
     "data": {
      "application/vnd.jupyter.widget-view+json": {
       "model_id": "7925319a123c4a868fee3016c3666097",
       "version_major": 2,
       "version_minor": 0
      },
      "text/plain": [
       "Validation: |          | 0/? [00:00<?, ?it/s]"
      ]
     },
     "metadata": {},
     "output_type": "display_data"
    },
    {
     "data": {
      "application/vnd.jupyter.widget-view+json": {
       "model_id": "be8412d8f90a4a5db48d4f8f1a430944",
       "version_major": 2,
       "version_minor": 0
      },
      "text/plain": [
       "Validation: |          | 0/? [00:00<?, ?it/s]"
      ]
     },
     "metadata": {},
     "output_type": "display_data"
    },
    {
     "data": {
      "application/vnd.jupyter.widget-view+json": {
       "model_id": "e460cc2d15b547e3ba86384c7c9e844b",
       "version_major": 2,
       "version_minor": 0
      },
      "text/plain": [
       "Validation: |          | 0/? [00:00<?, ?it/s]"
      ]
     },
     "metadata": {},
     "output_type": "display_data"
    },
    {
     "data": {
      "application/vnd.jupyter.widget-view+json": {
       "model_id": "086b6049eac744e6b0139e4733c3476d",
       "version_major": 2,
       "version_minor": 0
      },
      "text/plain": [
       "Validation: |          | 0/? [00:00<?, ?it/s]"
      ]
     },
     "metadata": {},
     "output_type": "display_data"
    },
    {
     "data": {
      "application/vnd.jupyter.widget-view+json": {
       "model_id": "e75282b7656840a097a0d2b88934142a",
       "version_major": 2,
       "version_minor": 0
      },
      "text/plain": [
       "Validation: |          | 0/? [00:00<?, ?it/s]"
      ]
     },
     "metadata": {},
     "output_type": "display_data"
    },
    {
     "data": {
      "application/vnd.jupyter.widget-view+json": {
       "model_id": "414617f932894437aeea2685d7dd5ade",
       "version_major": 2,
       "version_minor": 0
      },
      "text/plain": [
       "Validation: |          | 0/? [00:00<?, ?it/s]"
      ]
     },
     "metadata": {},
     "output_type": "display_data"
    },
    {
     "data": {
      "application/vnd.jupyter.widget-view+json": {
       "model_id": "fd078d21b53a49dd95f69a03182cc646",
       "version_major": 2,
       "version_minor": 0
      },
      "text/plain": [
       "Validation: |          | 0/? [00:00<?, ?it/s]"
      ]
     },
     "metadata": {},
     "output_type": "display_data"
    },
    {
     "data": {
      "application/vnd.jupyter.widget-view+json": {
       "model_id": "fdc15ad6dd96431ba9c09a56f3c9efae",
       "version_major": 2,
       "version_minor": 0
      },
      "text/plain": [
       "Validation: |          | 0/? [00:00<?, ?it/s]"
      ]
     },
     "metadata": {},
     "output_type": "display_data"
    },
    {
     "data": {
      "application/vnd.jupyter.widget-view+json": {
       "model_id": "bd5f065dcc92436e8a0e99e0beb6803d",
       "version_major": 2,
       "version_minor": 0
      },
      "text/plain": [
       "Validation: |          | 0/? [00:00<?, ?it/s]"
      ]
     },
     "metadata": {},
     "output_type": "display_data"
    },
    {
     "data": {
      "application/vnd.jupyter.widget-view+json": {
       "model_id": "d9602109e42b4127b7d140ebabd23377",
       "version_major": 2,
       "version_minor": 0
      },
      "text/plain": [
       "Validation: |          | 0/? [00:00<?, ?it/s]"
      ]
     },
     "metadata": {},
     "output_type": "display_data"
    },
    {
     "data": {
      "application/vnd.jupyter.widget-view+json": {
       "model_id": "f8c6b3799fd04477987bb3908d3c74a6",
       "version_major": 2,
       "version_minor": 0
      },
      "text/plain": [
       "Validation: |          | 0/? [00:00<?, ?it/s]"
      ]
     },
     "metadata": {},
     "output_type": "display_data"
    },
    {
     "data": {
      "application/vnd.jupyter.widget-view+json": {
       "model_id": "8c40f635fe5f4d1698220462017c8a2c",
       "version_major": 2,
       "version_minor": 0
      },
      "text/plain": [
       "Validation: |          | 0/? [00:00<?, ?it/s]"
      ]
     },
     "metadata": {},
     "output_type": "display_data"
    },
    {
     "data": {
      "application/vnd.jupyter.widget-view+json": {
       "model_id": "3b4d960c21fb4b7bb5b1577f18c14686",
       "version_major": 2,
       "version_minor": 0
      },
      "text/plain": [
       "Validation: |          | 0/? [00:00<?, ?it/s]"
      ]
     },
     "metadata": {},
     "output_type": "display_data"
    },
    {
     "data": {
      "application/vnd.jupyter.widget-view+json": {
       "model_id": "4d8b373e06e54c7588f7f84a212df943",
       "version_major": 2,
       "version_minor": 0
      },
      "text/plain": [
       "Validation: |          | 0/? [00:00<?, ?it/s]"
      ]
     },
     "metadata": {},
     "output_type": "display_data"
    },
    {
     "data": {
      "application/vnd.jupyter.widget-view+json": {
       "model_id": "b8cc82b7e1bc45a4ba7fdf9834e8c8a9",
       "version_major": 2,
       "version_minor": 0
      },
      "text/plain": [
       "Validation: |          | 0/? [00:00<?, ?it/s]"
      ]
     },
     "metadata": {},
     "output_type": "display_data"
    },
    {
     "data": {
      "application/vnd.jupyter.widget-view+json": {
       "model_id": "5899d937155a4f8cb6caabcc070dd992",
       "version_major": 2,
       "version_minor": 0
      },
      "text/plain": [
       "Validation: |          | 0/? [00:00<?, ?it/s]"
      ]
     },
     "metadata": {},
     "output_type": "display_data"
    },
    {
     "data": {
      "application/vnd.jupyter.widget-view+json": {
       "model_id": "68877e26e5e84b04bfdb2263ebdca3cb",
       "version_major": 2,
       "version_minor": 0
      },
      "text/plain": [
       "Validation: |          | 0/? [00:00<?, ?it/s]"
      ]
     },
     "metadata": {},
     "output_type": "display_data"
    },
    {
     "data": {
      "application/vnd.jupyter.widget-view+json": {
       "model_id": "cbeea1129a0f4f22a232fc64c8ab6d69",
       "version_major": 2,
       "version_minor": 0
      },
      "text/plain": [
       "Validation: |          | 0/? [00:00<?, ?it/s]"
      ]
     },
     "metadata": {},
     "output_type": "display_data"
    },
    {
     "data": {
      "application/vnd.jupyter.widget-view+json": {
       "model_id": "0753b3a2ab3b41efb9906804badc0d6f",
       "version_major": 2,
       "version_minor": 0
      },
      "text/plain": [
       "Validation: |          | 0/? [00:00<?, ?it/s]"
      ]
     },
     "metadata": {},
     "output_type": "display_data"
    },
    {
     "data": {
      "application/vnd.jupyter.widget-view+json": {
       "model_id": "c5c9997b15f749159ff5fac2db88e80d",
       "version_major": 2,
       "version_minor": 0
      },
      "text/plain": [
       "Validation: |          | 0/? [00:00<?, ?it/s]"
      ]
     },
     "metadata": {},
     "output_type": "display_data"
    },
    {
     "data": {
      "application/vnd.jupyter.widget-view+json": {
       "model_id": "8200f7aebbed4d46a685f14f54684d9a",
       "version_major": 2,
       "version_minor": 0
      },
      "text/plain": [
       "Validation: |          | 0/? [00:00<?, ?it/s]"
      ]
     },
     "metadata": {},
     "output_type": "display_data"
    },
    {
     "data": {
      "application/vnd.jupyter.widget-view+json": {
       "model_id": "6e760e0914e149158a2b87165ca8e757",
       "version_major": 2,
       "version_minor": 0
      },
      "text/plain": [
       "Validation: |          | 0/? [00:00<?, ?it/s]"
      ]
     },
     "metadata": {},
     "output_type": "display_data"
    },
    {
     "data": {
      "application/vnd.jupyter.widget-view+json": {
       "model_id": "5555ab5548a44132a279ccde44f9b7c5",
       "version_major": 2,
       "version_minor": 0
      },
      "text/plain": [
       "Validation: |          | 0/? [00:00<?, ?it/s]"
      ]
     },
     "metadata": {},
     "output_type": "display_data"
    },
    {
     "data": {
      "application/vnd.jupyter.widget-view+json": {
       "model_id": "f196f61ac76d4366a2d06f239fbe3002",
       "version_major": 2,
       "version_minor": 0
      },
      "text/plain": [
       "Validation: |          | 0/? [00:00<?, ?it/s]"
      ]
     },
     "metadata": {},
     "output_type": "display_data"
    },
    {
     "data": {
      "application/vnd.jupyter.widget-view+json": {
       "model_id": "ec07068ca0144af9a2d89c928e7fe83d",
       "version_major": 2,
       "version_minor": 0
      },
      "text/plain": [
       "Validation: |          | 0/? [00:00<?, ?it/s]"
      ]
     },
     "metadata": {},
     "output_type": "display_data"
    },
    {
     "data": {
      "application/vnd.jupyter.widget-view+json": {
       "model_id": "abdc8479f6d54c75a2991f9830280a72",
       "version_major": 2,
       "version_minor": 0
      },
      "text/plain": [
       "Validation: |          | 0/? [00:00<?, ?it/s]"
      ]
     },
     "metadata": {},
     "output_type": "display_data"
    },
    {
     "data": {
      "application/vnd.jupyter.widget-view+json": {
       "model_id": "e2893b2426f34abbaf712589540c90c1",
       "version_major": 2,
       "version_minor": 0
      },
      "text/plain": [
       "Validation: |          | 0/? [00:00<?, ?it/s]"
      ]
     },
     "metadata": {},
     "output_type": "display_data"
    },
    {
     "data": {
      "application/vnd.jupyter.widget-view+json": {
       "model_id": "638ec8212ef7483996bf2c75aa82a050",
       "version_major": 2,
       "version_minor": 0
      },
      "text/plain": [
       "Validation: |          | 0/? [00:00<?, ?it/s]"
      ]
     },
     "metadata": {},
     "output_type": "display_data"
    },
    {
     "data": {
      "application/vnd.jupyter.widget-view+json": {
       "model_id": "ea4c24a7857445818baf6087ad36d243",
       "version_major": 2,
       "version_minor": 0
      },
      "text/plain": [
       "Validation: |          | 0/? [00:00<?, ?it/s]"
      ]
     },
     "metadata": {},
     "output_type": "display_data"
    },
    {
     "data": {
      "application/vnd.jupyter.widget-view+json": {
       "model_id": "7dd5951aa3024a5fbfc41fc371a01f19",
       "version_major": 2,
       "version_minor": 0
      },
      "text/plain": [
       "Validation: |          | 0/? [00:00<?, ?it/s]"
      ]
     },
     "metadata": {},
     "output_type": "display_data"
    },
    {
     "data": {
      "application/vnd.jupyter.widget-view+json": {
       "model_id": "af79d50852e74c01a77a0923f71848c3",
       "version_major": 2,
       "version_minor": 0
      },
      "text/plain": [
       "Validation: |          | 0/? [00:00<?, ?it/s]"
      ]
     },
     "metadata": {},
     "output_type": "display_data"
    },
    {
     "data": {
      "application/vnd.jupyter.widget-view+json": {
       "model_id": "62efd27889024ec69b9a9c828a96e1ae",
       "version_major": 2,
       "version_minor": 0
      },
      "text/plain": [
       "Validation: |          | 0/? [00:00<?, ?it/s]"
      ]
     },
     "metadata": {},
     "output_type": "display_data"
    },
    {
     "data": {
      "application/vnd.jupyter.widget-view+json": {
       "model_id": "f614cd91402c4055b77abedf294d598e",
       "version_major": 2,
       "version_minor": 0
      },
      "text/plain": [
       "Validation: |          | 0/? [00:00<?, ?it/s]"
      ]
     },
     "metadata": {},
     "output_type": "display_data"
    },
    {
     "data": {
      "application/vnd.jupyter.widget-view+json": {
       "model_id": "1661da0bbe52461fb10478fe1b6e7a1c",
       "version_major": 2,
       "version_minor": 0
      },
      "text/plain": [
       "Validation: |          | 0/? [00:00<?, ?it/s]"
      ]
     },
     "metadata": {},
     "output_type": "display_data"
    },
    {
     "data": {
      "application/vnd.jupyter.widget-view+json": {
       "model_id": "0c62aff6dae943cfb2612d24608c4a15",
       "version_major": 2,
       "version_minor": 0
      },
      "text/plain": [
       "Validation: |          | 0/? [00:00<?, ?it/s]"
      ]
     },
     "metadata": {},
     "output_type": "display_data"
    },
    {
     "name": "stderr",
     "output_type": "stream",
     "text": [
      "Restoring states from the checkpoint path at d:\\File\\Study\\BME\\Msc\\Melytanulas\\nhf\\lightning_logs\\version_1\\checkpoints\\epoch=122-step=738.ckpt\n",
      "LOCAL_RANK: 0 - CUDA_VISIBLE_DEVICES: [0]\n",
      "Loaded model weights from the checkpoint at d:\\File\\Study\\BME\\Msc\\Melytanulas\\nhf\\lightning_logs\\version_1\\checkpoints\\epoch=122-step=738.ckpt\n"
     ]
    },
    {
     "data": {
      "application/vnd.jupyter.widget-view+json": {
       "model_id": "a9442d4cb90b48f9823578298f1e5a1b",
       "version_major": 2,
       "version_minor": 0
      },
      "text/plain": [
       "Testing: |          | 0/? [00:00<?, ?it/s]"
      ]
     },
     "metadata": {},
     "output_type": "display_data"
    },
    {
     "data": {
      "text/html": [
       "<pre style=\"white-space:pre;overflow-x:auto;line-height:normal;font-family:Menlo,'DejaVu Sans Mono',consolas,'Courier New',monospace\">┏━━━━━━━━━━━━━━━━━━━━━━━━━━━┳━━━━━━━━━━━━━━━━━━━━━━━━━━━┓\n",
       "┃<span style=\"font-weight: bold\">        Test metric        </span>┃<span style=\"font-weight: bold\">       DataLoader 0        </span>┃\n",
       "┡━━━━━━━━━━━━━━━━━━━━━━━━━━━╇━━━━━━━━━━━━━━━━━━━━━━━━━━━┩\n",
       "│<span style=\"color: #008080; text-decoration-color: #008080\">         test_loss         </span>│<span style=\"color: #800080; text-decoration-color: #800080\">        1869450.75         </span>│\n",
       "└───────────────────────────┴───────────────────────────┘\n",
       "</pre>\n"
      ],
      "text/plain": [
       "┏━━━━━━━━━━━━━━━━━━━━━━━━━━━┳━━━━━━━━━━━━━━━━━━━━━━━━━━━┓\n",
       "┃\u001b[1m \u001b[0m\u001b[1m       Test metric       \u001b[0m\u001b[1m \u001b[0m┃\u001b[1m \u001b[0m\u001b[1m      DataLoader 0       \u001b[0m\u001b[1m \u001b[0m┃\n",
       "┡━━━━━━━━━━━━━━━━━━━━━━━━━━━╇━━━━━━━━━━━━━━━━━━━━━━━━━━━┩\n",
       "│\u001b[36m \u001b[0m\u001b[36m        test_loss        \u001b[0m\u001b[36m \u001b[0m│\u001b[35m \u001b[0m\u001b[35m       1869450.75        \u001b[0m\u001b[35m \u001b[0m│\n",
       "└───────────────────────────┴───────────────────────────┘\n"
      ]
     },
     "metadata": {},
     "output_type": "display_data"
    },
    {
     "name": "stderr",
     "output_type": "stream",
     "text": [
      "Clipping input data to the valid range for imshow with RGB data ([0..1] for floats or [0..255] for integers). Got range [-0.22531693..0.7483955].\n",
      "Clipping input data to the valid range for imshow with RGB data ([0..1] for floats or [0..255] for integers). Got range [-0.20098792..0.7632632].\n",
      "Clipping input data to the valid range for imshow with RGB data ([0..1] for floats or [0..255] for integers). Got range [-0.82242286..0.29359433].\n",
      "Clipping input data to the valid range for imshow with RGB data ([0..1] for floats or [0..255] for integers). Got range [-0.5270066..0.75633085].\n",
      "Clipping input data to the valid range for imshow with RGB data ([0..1] for floats or [0..255] for integers). Got range [-0.07889688..0.8247781].\n"
     ]
    },
    {
     "data": {
      "image/png": "[encoded data removed]",
      "text/plain": [
       "<Figure size 640x480 with 5 Axes>"
      ]
     },
     "metadata": {},
     "output_type": "display_data"
    }
   ],
   "source": [
    "# https://pytorch-lightning.readthedocs.io/en/0.10.0/lightning_module.html\n",
    "class VAE(pl.LightningModule):\n",
    "\tdef __init__(self, input_shape, latent_size, optimizer_name, learning_rate):\n",
    "\t\tsuper().__init__()\n",
    "\n",
    "\t\timg_channel = input_shape[0]\n",
    "\n",
    "\t\t# Log hyperparameters\n",
    "\t\tself.save_hyperparameters()\n",
    "\t\tself.optimizer_name = optimizer_name\n",
    "\t\tself.learning_rate = learning_rate\n",
    "\t\tself.L = latent_size\n",
    "\t\n",
    "\t\tself.enc = torch.nn.Sequential(\n",
    "\t\t\ttorch.nn.Conv2d(in_channels=img_channel, out_channels=32, kernel_size=4, stride=2, padding=1),\n",
    "\t\t\ttorch.nn.ReLU(),\n",
    "\n",
    "\t\t\ttorch.nn.Conv2d(in_channels=32, out_channels=32, kernel_size=4, stride=2, padding=1),\n",
    "\t\t\ttorch.nn.ReLU(),\n",
    "\n",
    "\t\t\ttorch.nn.Flatten()\n",
    "\t\t)\n",
    "\n",
    "\t\tflatten_size = self._shape_after_feature_extraction(input_shape)\n",
    "\t\tself.mu = torch.nn.Linear(in_features=flatten_size, out_features=self.L)\n",
    "\t\tself.log_var = torch.nn.Linear(in_features=flatten_size, out_features=self.L)\n",
    "\t\t\t# variance can't be negative\n",
    "\n",
    "\t\tlast_conv_size = int(np.sqrt(flatten_size / 32))\n",
    "\t\tself.dec = torch.nn.Sequential(\n",
    "\t\t\ttorch.nn.Linear(in_features=self.L, out_features=flatten_size),\n",
    "\t\t\ttorch.nn.ReLU(),\n",
    "\n",
    "\t\t\ttorch.nn.Unflatten(dim=1, unflattened_size=(32, last_conv_size, last_conv_size)),\n",
    "\t\t\t\t# dim 1: batches\n",
    "\n",
    "\t\t\ttorch.nn.ConvTranspose2d(in_channels=32, out_channels=32, kernel_size=4, stride=2, padding=1),\n",
    "\t\t\ttorch.nn.ReLU(),\n",
    "\n",
    "\t\t\ttorch.nn.ConvTranspose2d(in_channels=32, out_channels=img_channel, kernel_size=4, stride=2, padding=1),\n",
    "\t\t\t# no relu, batchnorm!\n",
    "\t\t\ttorch.nn.Tanh()\n",
    "\t\t\t\t# Image domain is [-1,1]\n",
    "\t\t)\n",
    "\n",
    "\t''' Gives the size of flattened layer '''\n",
    "\tdef _shape_after_feature_extraction(self, shape):\n",
    "\t\tbatch_size = 1\n",
    "\t\tinput = torch.rand(batch_size, *shape)\n",
    "\t\tflattened = self.enc(torch.autograd.Variable(input))\n",
    "\t\treturn flattened.data.view(batch_size, -1).size(1)\n",
    "\n",
    "\tdef encode(self, x):\n",
    "\t\tout = self.enc(x)\n",
    "\t\tmu = self.mu(out)\n",
    "\t\tlv = self.log_var(out)\n",
    "\t\treturn mu, lv\n",
    "\n",
    "\tdef decode(self, z):\n",
    "\t\tx = self.dec(z)\n",
    "\t\treturn x\n",
    "\n",
    "\t@override\n",
    "\tdef forward(self, x):\n",
    "\t\tmu, lv = self.encode(x)\n",
    "\t\tz = mu + torch.randn_like(lv) * torch.exp(lv)\n",
    "\t\tx_reconstructed = self.decode(z)\n",
    "\n",
    "\t\treturn x_reconstructed, mu, lv\n",
    "\n",
    "\tdef any_step(self, batch, batch_idx, phase):\n",
    "\t\tbatch_reconstructed, mu, lv = self(batch)\n",
    "\n",
    "\t\tKL = torch.sum((mu**2 + torch.exp(lv) - 1 - lv) * .5)\n",
    "\t\tloss = torch.sum((batch - batch_reconstructed)**2) + KL\n",
    "\n",
    "\t\tif phase == \"train\":\n",
    "\t\t\tself.log('train_loss', loss, on_step=True, on_epoch=True, logger=True)\n",
    "\t\telif phase == \"val\":\n",
    "\t\t\tself.log('val_loss', loss, prog_bar=True)\n",
    "\t\telse:\n",
    "\t\t\tself.log('test_loss', loss, prog_bar=True)\n",
    "\n",
    "\t\treturn loss\n",
    "\t\t\n",
    "\t@override\n",
    "\tdef training_step(self, batch, batch_idx):\n",
    "\t\treturn self.any_step(batch, batch_idx, \"train\")\n",
    "\t@override\n",
    "\tdef validation_step(self, batch, batch_idx):\n",
    "\t\treturn self.any_step(batch, batch_idx, \"val\")\n",
    "\t@override\n",
    "\tdef test_step(self, batch, batch_idx):\n",
    "\t\treturn self.any_step(batch, batch_idx, \"test\")\n",
    "\t\n",
    "\t@override\n",
    "\tdef configure_optimizers(self):\n",
    "\t\tif self.optimizer_name == \"sgd\":\n",
    "\t\t\toptimizer = torch.optim.SGD(self.parameters(), lr=self.learning_rate, momentum=0.9)\n",
    "\t\telif self.optimizer_name == \"adamw\":\n",
    "\t\t\toptimizer = torch.optim.AdamW(self.parameters(), lr=self.learning_rate, weight_decay=1e-4)\n",
    "\t\t\toptimizer = torch.optim.Adam(self.parameters(), lr=self.learning_rate)\n",
    "\t\treturn optimizer\n",
    "\n",
    "def vae_with_hyperparameters(config=None):\n",
    "\t#with wandb.init(config=config):\n",
    "\t\tif config == None:\n",
    "\t\t\tconfig = wandb.config\n",
    "\t\t\tlogger = WandbLogger(log_model=\"all\")\n",
    "\t\telse:\n",
    "\t\t\tfrom lightning.pytorch.loggers import TensorBoardLogger\n",
    "\t\t\tlogger = TensorBoardLogger(save_dir=os.getcwd(), version=1, name=\"lightning_logs\")\n",
    "\n",
    "\t\tdm = flowers_dm # TODO celeba\n",
    "\t\tinput_shape = tuple(flowers_dm.dataset[0].shape)\n",
    "\n",
    "\t\tmodel = VAE(input_shape, config.latent_size, config.optimizer_name, config.learning_rate)\n",
    "\n",
    "\t\ttrainer = pl.Trainer(\n",
    "\t\t\tmax_epochs=config.epoch,\n",
    "\t\t\tprecision=\"16-mixed\",\n",
    "\t\t\taccelerator=\"gpu\",\n",
    "\t\t\tdevices=1,\n",
    "\t\t\tcallbacks=[\n",
    "\t\t\t\tpl.callbacks.ModelCheckpoint(monitor=\"val_loss\", save_top_k=1, mode=\"min\"),\n",
    "\t\t\t\tpl.callbacks.EarlyStopping(monitor=\"val_loss\", patience=config.early_stop_patience, verbose=False, mode=\"min\")\n",
    "\t\t\t],\n",
    "\t\t\tlogger=logger,\n",
    "\t\t\t#fast_dev_run = True,\n",
    "\t\t\tlog_every_n_steps=1\n",
    "\t\t)\n",
    "\t\ttrainer.fit(model, dm)\n",
    "\t\ttrainer.test(dataloaders=dm.test_dataloader())\n",
    "\n",
    "\t\t# Plot\n",
    "\t\tz_random = torch.randn(5, config.latent_size)\n",
    "\t\tf,ax = plt.subplots(1,5)\n",
    "\t\twith torch.no_grad():\n",
    "\t\t\tout = model.decode(z_random)\n",
    "\t\t\tfor i in range(5):\n",
    "\t\t\t\tax[i].imshow(out[i].view(input_shape[1],input_shape[2],input_shape[0])) # TODO dm.reverse_transform()\n",
    "\n",
    "if use_wandb:\n",
    "\tsweep_config = {\n",
    "\t\t\"name\": \"Deep learning - Baseline\",\n",
    "\t\t\"method\": \"random\", # or bayes (why isn't this configurable??)\n",
    "\t\t\"metric\": {\n",
    "\t\t\t\"goal\": \"minimize\",\n",
    "\t\t\t\"name\": \"val_loss\"\n",
    "\t\t},\n",
    "\t\t\"parameters\": {\n",
    "\t\t\t\"latent_size\": {\"values\": [2]},\n",
    "\t\t\t\"optimizer_name\": {\"values\": [\"adamw\"]},\n",
    "\t\t\t\"learning_rate\": {\"values\": [0.001]},\n",
    "\t\t\t\"epoch\": {\"values\": [50]},\n",
    "\t\t\t\"early_stop_patience\": {\"values\": [3]},\n",
    "\t\t\t# channel size\n",
    "\t\t},\n",
    "\t}\n",
    "\n",
    "\twandb.finish()\n",
    "\twandb.login(key=wandb_api_key)\n",
    "\tsweep_id = wandb.sweep(sweep_config, project=\"deeplearning\")\n",
    "\twandb.agent(sweep_id, function=vae_with_hyperparameters, count=10000000000)\n",
    "else:\n",
    "\tfrom types import SimpleNamespace\n",
    "\t\t# make dict to class\n",
    "\t\n",
    "\tvae_with_hyperparameters(SimpleNamespace(**{\n",
    "\t\t\"latent_size\": 2,\n",
    "\t\t\"optimizer_name\": \"adamw\",\n",
    "\t\t\"learning_rate\": 0.001,\n",
    "\t\t\"epoch\": 200,\n",
    "\t\t\"early_stop_patience\": 10,\n",
    "\t})) # TODO sweep kidobása\n",
    "# TODO load best model if flag"
   ]
  },
  {
   "cell_type": "markdown",
   "metadata": {},
   "source": [
    "Random image baseline + evaluation"
   ]
  },
  {
   "cell_type": "code",
   "execution_count": null,
   "metadata": {},
   "outputs": [
    {
     "data": {
      "image/png": "[encoded data removed]",
      "text/plain": [
       "<Figure size 640x480 with 1 Axes>"
      ]
     },
     "metadata": {},
     "output_type": "display_data"
    },
    {
     "ename": "KeyboardInterrupt",
     "evalue": "",
     "output_type": "error",
     "traceback": [
      "\u001b[1;31m---------------------------------------------------------------------------\u001b[0m",
      "\u001b[1;31mKeyboardInterrupt\u001b[0m                         Traceback (most recent call last)",
      "Cell \u001b[1;32mIn[31], line 14\u001b[0m\n\u001b[0;32m     11\u001b[0m \u001b[38;5;28;01mfrom\u001b[39;00m \u001b[38;5;21;01mtorchmetrics\u001b[39;00m\u001b[38;5;21;01m.\u001b[39;00m\u001b[38;5;21;01mimage\u001b[39;00m\u001b[38;5;21;01m.\u001b[39;00m\u001b[38;5;21;01minception\u001b[39;00m \u001b[38;5;28;01mimport\u001b[39;00m InceptionScore\n\u001b[0;32m     13\u001b[0m fid \u001b[38;5;241m=\u001b[39m FrechetInceptionDistance(feature\u001b[38;5;241m=\u001b[39m\u001b[38;5;241m64\u001b[39m)\n\u001b[1;32m---> 14\u001b[0m \u001b[43mfid\u001b[49m\u001b[38;5;241;43m.\u001b[39;49m\u001b[43mupdate\u001b[49m\u001b[43m(\u001b[49m\u001b[43mtorch\u001b[49m\u001b[38;5;241;43m.\u001b[39;49m\u001b[43mstack\u001b[49m\u001b[43m(\u001b[49m\u001b[43mflowers_dm\u001b[49m\u001b[38;5;241;43m.\u001b[39;49m\u001b[43mval_dataset\u001b[49m\u001b[43m,\u001b[49m\u001b[43mdim\u001b[49m\u001b[38;5;241;43m=\u001b[39;49m\u001b[38;5;241;43m0\u001b[39;49m\u001b[43m)\u001b[49m\u001b[38;5;241;43m.\u001b[39;49m\u001b[43mto\u001b[49m\u001b[43m(\u001b[49m\u001b[43mtorch\u001b[49m\u001b[38;5;241;43m.\u001b[39;49m\u001b[43muint8\u001b[49m\u001b[43m)\u001b[49m\u001b[43m,\u001b[49m\u001b[43m \u001b[49m\u001b[43mreal\u001b[49m\u001b[38;5;241;43m=\u001b[39;49m\u001b[38;5;28;43;01mTrue\u001b[39;49;00m\u001b[43m)\u001b[49m\n\u001b[0;32m     15\u001b[0m fid\u001b[38;5;241m.\u001b[39mupdate(random_generated, real\u001b[38;5;241m=\u001b[39m\u001b[38;5;28;01mFalse\u001b[39;00m)\n\u001b[0;32m     16\u001b[0m \u001b[38;5;28mprint\u001b[39m(\u001b[38;5;124mf\u001b[39m\u001b[38;5;124m\"\u001b[39m\u001b[38;5;124mFID: \u001b[39m\u001b[38;5;132;01m{\u001b[39;00mfid\u001b[38;5;241m.\u001b[39mcompute()\u001b[38;5;132;01m}\u001b[39;00m\u001b[38;5;124m\"\u001b[39m)\n",
      "File \u001b[1;32mc:\\Users\\asztr\\AppData\\Local\\Programs\\Python\\Python312\\Lib\\site-packages\\torchmetrics\\metric.py:483\u001b[0m, in \u001b[0;36mMetric._wrap_update.<locals>.wrapped_func\u001b[1;34m(*args, **kwargs)\u001b[0m\n\u001b[0;32m    481\u001b[0m \u001b[38;5;28;01mwith\u001b[39;00m torch\u001b[38;5;241m.\u001b[39mset_grad_enabled(\u001b[38;5;28mself\u001b[39m\u001b[38;5;241m.\u001b[39m_enable_grad):\n\u001b[0;32m    482\u001b[0m     \u001b[38;5;28;01mtry\u001b[39;00m:\n\u001b[1;32m--> 483\u001b[0m         \u001b[43mupdate\u001b[49m\u001b[43m(\u001b[49m\u001b[38;5;241;43m*\u001b[39;49m\u001b[43margs\u001b[49m\u001b[43m,\u001b[49m\u001b[43m \u001b[49m\u001b[38;5;241;43m*\u001b[39;49m\u001b[38;5;241;43m*\u001b[39;49m\u001b[43mkwargs\u001b[49m\u001b[43m)\u001b[49m\n\u001b[0;32m    484\u001b[0m     \u001b[38;5;28;01mexcept\u001b[39;00m \u001b[38;5;167;01mRuntimeError\u001b[39;00m \u001b[38;5;28;01mas\u001b[39;00m err:\n\u001b[0;32m    485\u001b[0m         \u001b[38;5;28;01mif\u001b[39;00m \u001b[38;5;124m\"\u001b[39m\u001b[38;5;124mExpected all tensors to be on\u001b[39m\u001b[38;5;124m\"\u001b[39m \u001b[38;5;129;01min\u001b[39;00m \u001b[38;5;28mstr\u001b[39m(err):\n",
      "File \u001b[1;32mc:\\Users\\asztr\\AppData\\Local\\Programs\\Python\\Python312\\Lib\\site-packages\\torchmetrics\\image\\fid.py:364\u001b[0m, in \u001b[0;36mFrechetInceptionDistance.update\u001b[1;34m(self, imgs, real)\u001b[0m\n\u001b[0;32m    355\u001b[0m \u001b[38;5;250m\u001b[39m\u001b[38;5;124;03m\"\"\"Update the state with extracted features.\u001b[39;00m\n\u001b[0;32m    356\u001b[0m \n\u001b[0;32m    357\u001b[0m \u001b[38;5;124;03mArgs:\u001b[39;00m\n\u001b[1;32m   (...)\u001b[0m\n\u001b[0;32m    361\u001b[0m \n\u001b[0;32m    362\u001b[0m \u001b[38;5;124;03m\"\"\"\u001b[39;00m\n\u001b[0;32m    363\u001b[0m imgs \u001b[38;5;241m=\u001b[39m (imgs \u001b[38;5;241m*\u001b[39m \u001b[38;5;241m255\u001b[39m)\u001b[38;5;241m.\u001b[39mbyte() \u001b[38;5;28;01mif\u001b[39;00m \u001b[38;5;28mself\u001b[39m\u001b[38;5;241m.\u001b[39mnormalize \u001b[38;5;129;01mand\u001b[39;00m (\u001b[38;5;129;01mnot\u001b[39;00m \u001b[38;5;28mself\u001b[39m\u001b[38;5;241m.\u001b[39mused_custom_model) \u001b[38;5;28;01melse\u001b[39;00m imgs\n\u001b[1;32m--> 364\u001b[0m features \u001b[38;5;241m=\u001b[39m \u001b[38;5;28;43mself\u001b[39;49m\u001b[38;5;241;43m.\u001b[39;49m\u001b[43minception\u001b[49m\u001b[43m(\u001b[49m\u001b[43mimgs\u001b[49m\u001b[43m)\u001b[49m\n\u001b[0;32m    365\u001b[0m \u001b[38;5;28mself\u001b[39m\u001b[38;5;241m.\u001b[39morig_dtype \u001b[38;5;241m=\u001b[39m features\u001b[38;5;241m.\u001b[39mdtype\n\u001b[0;32m    366\u001b[0m features \u001b[38;5;241m=\u001b[39m features\u001b[38;5;241m.\u001b[39mdouble()\n",
      "File \u001b[1;32mc:\\Users\\asztr\\AppData\\Local\\Programs\\Python\\Python312\\Lib\\site-packages\\torch\\nn\\modules\\module.py:1553\u001b[0m, in \u001b[0;36mModule._wrapped_call_impl\u001b[1;34m(self, *args, **kwargs)\u001b[0m\n\u001b[0;32m   1551\u001b[0m     \u001b[38;5;28;01mreturn\u001b[39;00m \u001b[38;5;28mself\u001b[39m\u001b[38;5;241m.\u001b[39m_compiled_call_impl(\u001b[38;5;241m*\u001b[39margs, \u001b[38;5;241m*\u001b[39m\u001b[38;5;241m*\u001b[39mkwargs)  \u001b[38;5;66;03m# type: ignore[misc]\u001b[39;00m\n\u001b[0;32m   1552\u001b[0m \u001b[38;5;28;01melse\u001b[39;00m:\n\u001b[1;32m-> 1553\u001b[0m     \u001b[38;5;28;01mreturn\u001b[39;00m \u001b[38;5;28;43mself\u001b[39;49m\u001b[38;5;241;43m.\u001b[39;49m\u001b[43m_call_impl\u001b[49m\u001b[43m(\u001b[49m\u001b[38;5;241;43m*\u001b[39;49m\u001b[43margs\u001b[49m\u001b[43m,\u001b[49m\u001b[43m \u001b[49m\u001b[38;5;241;43m*\u001b[39;49m\u001b[38;5;241;43m*\u001b[39;49m\u001b[43mkwargs\u001b[49m\u001b[43m)\u001b[49m\n",
      "File \u001b[1;32mc:\\Users\\asztr\\AppData\\Local\\Programs\\Python\\Python312\\Lib\\site-packages\\torch\\nn\\modules\\module.py:1562\u001b[0m, in \u001b[0;36mModule._call_impl\u001b[1;34m(self, *args, **kwargs)\u001b[0m\n\u001b[0;32m   1557\u001b[0m \u001b[38;5;66;03m# If we don't have any hooks, we want to skip the rest of the logic in\u001b[39;00m\n\u001b[0;32m   1558\u001b[0m \u001b[38;5;66;03m# this function, and just call forward.\u001b[39;00m\n\u001b[0;32m   1559\u001b[0m \u001b[38;5;28;01mif\u001b[39;00m \u001b[38;5;129;01mnot\u001b[39;00m (\u001b[38;5;28mself\u001b[39m\u001b[38;5;241m.\u001b[39m_backward_hooks \u001b[38;5;129;01mor\u001b[39;00m \u001b[38;5;28mself\u001b[39m\u001b[38;5;241m.\u001b[39m_backward_pre_hooks \u001b[38;5;129;01mor\u001b[39;00m \u001b[38;5;28mself\u001b[39m\u001b[38;5;241m.\u001b[39m_forward_hooks \u001b[38;5;129;01mor\u001b[39;00m \u001b[38;5;28mself\u001b[39m\u001b[38;5;241m.\u001b[39m_forward_pre_hooks\n\u001b[0;32m   1560\u001b[0m         \u001b[38;5;129;01mor\u001b[39;00m _global_backward_pre_hooks \u001b[38;5;129;01mor\u001b[39;00m _global_backward_hooks\n\u001b[0;32m   1561\u001b[0m         \u001b[38;5;129;01mor\u001b[39;00m _global_forward_hooks \u001b[38;5;129;01mor\u001b[39;00m _global_forward_pre_hooks):\n\u001b[1;32m-> 1562\u001b[0m     \u001b[38;5;28;01mreturn\u001b[39;00m \u001b[43mforward_call\u001b[49m\u001b[43m(\u001b[49m\u001b[38;5;241;43m*\u001b[39;49m\u001b[43margs\u001b[49m\u001b[43m,\u001b[49m\u001b[43m \u001b[49m\u001b[38;5;241;43m*\u001b[39;49m\u001b[38;5;241;43m*\u001b[39;49m\u001b[43mkwargs\u001b[49m\u001b[43m)\u001b[49m\n\u001b[0;32m   1564\u001b[0m \u001b[38;5;28;01mtry\u001b[39;00m:\n\u001b[0;32m   1565\u001b[0m     result \u001b[38;5;241m=\u001b[39m \u001b[38;5;28;01mNone\u001b[39;00m\n",
      "File \u001b[1;32mc:\\Users\\asztr\\AppData\\Local\\Programs\\Python\\Python312\\Lib\\site-packages\\torchmetrics\\image\\fid.py:155\u001b[0m, in \u001b[0;36mNoTrainInceptionV3.forward\u001b[1;34m(self, x)\u001b[0m\n\u001b[0;32m    153\u001b[0m \u001b[38;5;28;01mdef\u001b[39;00m \u001b[38;5;21mforward\u001b[39m(\u001b[38;5;28mself\u001b[39m, x: Tensor) \u001b[38;5;241m-\u001b[39m\u001b[38;5;241m>\u001b[39m Tensor:\n\u001b[0;32m    154\u001b[0m \u001b[38;5;250m    \u001b[39m\u001b[38;5;124;03m\"\"\"Forward pass of neural network with reshaping of output.\"\"\"\u001b[39;00m\n\u001b[1;32m--> 155\u001b[0m     out \u001b[38;5;241m=\u001b[39m \u001b[38;5;28;43mself\u001b[39;49m\u001b[38;5;241;43m.\u001b[39;49m\u001b[43m_torch_fidelity_forward\u001b[49m\u001b[43m(\u001b[49m\u001b[43mx\u001b[49m\u001b[43m)\u001b[49m\n\u001b[0;32m    156\u001b[0m     \u001b[38;5;28;01mreturn\u001b[39;00m out[\u001b[38;5;241m0\u001b[39m]\u001b[38;5;241m.\u001b[39mreshape(x\u001b[38;5;241m.\u001b[39mshape[\u001b[38;5;241m0\u001b[39m], \u001b[38;5;241m-\u001b[39m\u001b[38;5;241m1\u001b[39m)\n",
      "File \u001b[1;32mc:\\Users\\asztr\\AppData\\Local\\Programs\\Python\\Python312\\Lib\\site-packages\\torchmetrics\\image\\fid.py:90\u001b[0m, in \u001b[0;36mNoTrainInceptionV3._torch_fidelity_forward\u001b[1;34m(self, x)\u001b[0m\n\u001b[0;32m     83\u001b[0m x \u001b[38;5;241m=\u001b[39m interpolate_bilinear_2d_like_tensorflow1x(\n\u001b[0;32m     84\u001b[0m     x,\n\u001b[0;32m     85\u001b[0m     size\u001b[38;5;241m=\u001b[39m(\u001b[38;5;28mself\u001b[39m\u001b[38;5;241m.\u001b[39mINPUT_IMAGE_SIZE, \u001b[38;5;28mself\u001b[39m\u001b[38;5;241m.\u001b[39mINPUT_IMAGE_SIZE),\n\u001b[0;32m     86\u001b[0m     align_corners\u001b[38;5;241m=\u001b[39m\u001b[38;5;28;01mFalse\u001b[39;00m,\n\u001b[0;32m     87\u001b[0m )\n\u001b[0;32m     88\u001b[0m x \u001b[38;5;241m=\u001b[39m (x \u001b[38;5;241m-\u001b[39m \u001b[38;5;241m128\u001b[39m) \u001b[38;5;241m/\u001b[39m \u001b[38;5;241m128\u001b[39m\n\u001b[1;32m---> 90\u001b[0m x \u001b[38;5;241m=\u001b[39m \u001b[38;5;28;43mself\u001b[39;49m\u001b[38;5;241;43m.\u001b[39;49m\u001b[43mConv2d_1a_3x3\u001b[49m\u001b[43m(\u001b[49m\u001b[43mx\u001b[49m\u001b[43m)\u001b[49m\n\u001b[0;32m     91\u001b[0m x \u001b[38;5;241m=\u001b[39m \u001b[38;5;28mself\u001b[39m\u001b[38;5;241m.\u001b[39mConv2d_2a_3x3(x)\n\u001b[0;32m     92\u001b[0m x \u001b[38;5;241m=\u001b[39m \u001b[38;5;28mself\u001b[39m\u001b[38;5;241m.\u001b[39mConv2d_2b_3x3(x)\n",
      "File \u001b[1;32mc:\\Users\\asztr\\AppData\\Local\\Programs\\Python\\Python312\\Lib\\site-packages\\torch\\nn\\modules\\module.py:1553\u001b[0m, in \u001b[0;36mModule._wrapped_call_impl\u001b[1;34m(self, *args, **kwargs)\u001b[0m\n\u001b[0;32m   1551\u001b[0m     \u001b[38;5;28;01mreturn\u001b[39;00m \u001b[38;5;28mself\u001b[39m\u001b[38;5;241m.\u001b[39m_compiled_call_impl(\u001b[38;5;241m*\u001b[39margs, \u001b[38;5;241m*\u001b[39m\u001b[38;5;241m*\u001b[39mkwargs)  \u001b[38;5;66;03m# type: ignore[misc]\u001b[39;00m\n\u001b[0;32m   1552\u001b[0m \u001b[38;5;28;01melse\u001b[39;00m:\n\u001b[1;32m-> 1553\u001b[0m     \u001b[38;5;28;01mreturn\u001b[39;00m \u001b[38;5;28;43mself\u001b[39;49m\u001b[38;5;241;43m.\u001b[39;49m\u001b[43m_call_impl\u001b[49m\u001b[43m(\u001b[49m\u001b[38;5;241;43m*\u001b[39;49m\u001b[43margs\u001b[49m\u001b[43m,\u001b[49m\u001b[43m \u001b[49m\u001b[38;5;241;43m*\u001b[39;49m\u001b[38;5;241;43m*\u001b[39;49m\u001b[43mkwargs\u001b[49m\u001b[43m)\u001b[49m\n",
      "File \u001b[1;32mc:\\Users\\asztr\\AppData\\Local\\Programs\\Python\\Python312\\Lib\\site-packages\\torch\\nn\\modules\\module.py:1562\u001b[0m, in \u001b[0;36mModule._call_impl\u001b[1;34m(self, *args, **kwargs)\u001b[0m\n\u001b[0;32m   1557\u001b[0m \u001b[38;5;66;03m# If we don't have any hooks, we want to skip the rest of the logic in\u001b[39;00m\n\u001b[0;32m   1558\u001b[0m \u001b[38;5;66;03m# this function, and just call forward.\u001b[39;00m\n\u001b[0;32m   1559\u001b[0m \u001b[38;5;28;01mif\u001b[39;00m \u001b[38;5;129;01mnot\u001b[39;00m (\u001b[38;5;28mself\u001b[39m\u001b[38;5;241m.\u001b[39m_backward_hooks \u001b[38;5;129;01mor\u001b[39;00m \u001b[38;5;28mself\u001b[39m\u001b[38;5;241m.\u001b[39m_backward_pre_hooks \u001b[38;5;129;01mor\u001b[39;00m \u001b[38;5;28mself\u001b[39m\u001b[38;5;241m.\u001b[39m_forward_hooks \u001b[38;5;129;01mor\u001b[39;00m \u001b[38;5;28mself\u001b[39m\u001b[38;5;241m.\u001b[39m_forward_pre_hooks\n\u001b[0;32m   1560\u001b[0m         \u001b[38;5;129;01mor\u001b[39;00m _global_backward_pre_hooks \u001b[38;5;129;01mor\u001b[39;00m _global_backward_hooks\n\u001b[0;32m   1561\u001b[0m         \u001b[38;5;129;01mor\u001b[39;00m _global_forward_hooks \u001b[38;5;129;01mor\u001b[39;00m _global_forward_pre_hooks):\n\u001b[1;32m-> 1562\u001b[0m     \u001b[38;5;28;01mreturn\u001b[39;00m \u001b[43mforward_call\u001b[49m\u001b[43m(\u001b[49m\u001b[38;5;241;43m*\u001b[39;49m\u001b[43margs\u001b[49m\u001b[43m,\u001b[49m\u001b[43m \u001b[49m\u001b[38;5;241;43m*\u001b[39;49m\u001b[38;5;241;43m*\u001b[39;49m\u001b[43mkwargs\u001b[49m\u001b[43m)\u001b[49m\n\u001b[0;32m   1564\u001b[0m \u001b[38;5;28;01mtry\u001b[39;00m:\n\u001b[0;32m   1565\u001b[0m     result \u001b[38;5;241m=\u001b[39m \u001b[38;5;28;01mNone\u001b[39;00m\n",
      "File \u001b[1;32mc:\\Users\\asztr\\AppData\\Local\\Programs\\Python\\Python312\\Lib\\site-packages\\torch_fidelity\\feature_extractor_inceptionv3.py:210\u001b[0m, in \u001b[0;36mBasicConv2d.forward\u001b[1;34m(self, x)\u001b[0m\n\u001b[0;32m    208\u001b[0m x \u001b[38;5;241m=\u001b[39m \u001b[38;5;28mself\u001b[39m\u001b[38;5;241m.\u001b[39mconv(x)\n\u001b[0;32m    209\u001b[0m x \u001b[38;5;241m=\u001b[39m \u001b[38;5;28mself\u001b[39m\u001b[38;5;241m.\u001b[39mbn(x)\n\u001b[1;32m--> 210\u001b[0m \u001b[38;5;28;01mreturn\u001b[39;00m \u001b[43mF\u001b[49m\u001b[38;5;241;43m.\u001b[39;49m\u001b[43mrelu\u001b[49m\u001b[43m(\u001b[49m\u001b[43mx\u001b[49m\u001b[43m,\u001b[49m\u001b[43m \u001b[49m\u001b[43minplace\u001b[49m\u001b[38;5;241;43m=\u001b[39;49m\u001b[38;5;28;43;01mTrue\u001b[39;49;00m\u001b[43m)\u001b[49m\n",
      "File \u001b[1;32mc:\\Users\\asztr\\AppData\\Local\\Programs\\Python\\Python312\\Lib\\site-packages\\torch\\nn\\functional.py:1498\u001b[0m, in \u001b[0;36mrelu\u001b[1;34m(input, inplace)\u001b[0m\n\u001b[0;32m   1496\u001b[0m     \u001b[38;5;28;01mreturn\u001b[39;00m handle_torch_function(relu, (\u001b[38;5;28minput\u001b[39m,), \u001b[38;5;28minput\u001b[39m, inplace\u001b[38;5;241m=\u001b[39minplace)\n\u001b[0;32m   1497\u001b[0m \u001b[38;5;28;01mif\u001b[39;00m inplace:\n\u001b[1;32m-> 1498\u001b[0m     result \u001b[38;5;241m=\u001b[39m \u001b[43mtorch\u001b[49m\u001b[38;5;241;43m.\u001b[39;49m\u001b[43mrelu_\u001b[49m\u001b[43m(\u001b[49m\u001b[38;5;28;43minput\u001b[39;49m\u001b[43m)\u001b[49m\n\u001b[0;32m   1499\u001b[0m \u001b[38;5;28;01melse\u001b[39;00m:\n\u001b[0;32m   1500\u001b[0m     result \u001b[38;5;241m=\u001b[39m torch\u001b[38;5;241m.\u001b[39mrelu(\u001b[38;5;28minput\u001b[39m)\n",
      "\u001b[1;31mKeyboardInterrupt\u001b[0m: "
     ]
    }
   ],
   "source": [
    "val_size = len(flowers_dm.val_dataset)\n",
    "height = flowers_dm.val_dataset[0].shape[1]\n",
    "width = flowers_dm.val_dataset[0].shape[2]\n",
    "\n",
    "random_images = torch.randint(0, 255, (val_size, 3, height, width), dtype=torch.uint8)\n",
    "plt.imshow(random_images[0].view(height, width, 3))\n",
    "plt.axis('off')\n",
    "plt.show()\n",
    "\n",
    "from torchmetrics.image.fid import FrechetInceptionDistance\n",
    "from torchmetrics.image.inception import InceptionScore\n",
    "\n",
    "# TODO memory overflow\n",
    "fid = FrechetInceptionDistance(feature=64)\n",
    "fid.update(torch.stack(flowers_dm.val_dataset,dim=0).to(torch.uint8), real=True)\n",
    "fid.update(random_generated, real=False)\n",
    "print(f\"FID: {fid.compute()}\")\n",
    "\n",
    "inception = InceptionScore()\n",
    "inception.update(random_images)\n",
    "print(f\"Inception (mean, std): {inception.compute()}\")"
   ]
  },
  {
   "cell_type": "code",
   "execution_count": 19,
   "metadata": {},
   "outputs": [],
   "source": [
    "# If previous run is interrupted\n",
    "wandb.finish()"
   ]
  },
  {
   "cell_type": "markdown",
   "metadata": {},
   "source": [
    "# Evaluation"
   ]
  },
  {
   "cell_type": "code",
   "execution_count": null,
   "metadata": {},
   "outputs": [],
   "source": [
    "# TODO metrics"
   ]
  },
  {
   "cell_type": "code",
   "execution_count": null,
   "metadata": {
    "id": "m8DltiZdzH4d"
   },
   "outputs": [],
   "source": [
    "# keresztvalidáció\n",
    "# min max scaler csak tanítótól függjön!!!!!!!!!!!!!!!!!!!!!!!!!!!!!!!!!!!!!!!!!!!!!!!!!!!!!!!!!!!!!!!!!!!!!!!!!!!!!!!!!!!!!!!!!!!!!!!!!!!!!\n",
    "\n",
    "# vae baseline, test on own gpu\n",
    "# maxpooling\n",
    "# ui: https://www.gradio.app/docs/gradio/textbox\n",
    "\n",
    "# T db gauss zaj hozzáadás: várh érték függ az előző képtől?: https://huggingface.co/blog/annotated-diffusion\n",
    "# variancia változik minden üzemben (~learning rate schedule)\n",
    "# lehetne hiperparaméter a beta scheduler is (lineáris, exponenciális)\n",
    "\n",
    "# Releváns laborok: Gépi labor 4. VAE\n",
    "# Jó levezetés: https://lilianweng.github.io/posts/2021-07-11-diffusion-models/\n",
    "\n",
    "# gui: ahol lehet csúszkákat huzogatni (dimenzió értékek) amivel folytonos átmenetet kapunk a generált imagek között"
   ]
  }
 ],
 "metadata": {
  "colab": {
   "provenance": []
  },
  "kernelspec": {
   "display_name": "Python 3",
   "name": "python3"
  },
  "language_info": {
   "codemirror_mode": {
    "name": "ipython",
    "version": 3
   },
   "file_extension": ".py",
   "mimetype": "text/x-python",
   "name": "python",
   "nbconvert_exporter": "python",
   "pygments_lexer": "ipython3",
   "version": "3.12.6"
  }
 },
 "nbformat": 4,
 "nbformat_minor": 0
}
